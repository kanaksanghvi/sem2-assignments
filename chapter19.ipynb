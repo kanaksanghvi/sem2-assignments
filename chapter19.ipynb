{
 "cells": [
  {
   "cell_type": "markdown",
   "metadata": {},
   "source": [
    "# Chapter 19 exercise solutions"
   ]
  },
  {
   "cell_type": "code",
   "execution_count": 1,
   "metadata": {},
   "outputs": [],
   "source": [
    "import numpy as np"
   ]
  },
  {
   "cell_type": "markdown",
   "metadata": {},
   "source": [
    "4. Write a function my_bisection(f,a,b,tol) that returns [R,E], where f is a function object, a and\n",
    "b are scalars such that a < b, and tol is a strictly positive scalar value. The function should return \n",
    "an array, R, where R[i] is the estimation of the root of f deﬁned by (a + b)/2 for the ith iteration \n",
    "of the bisection method. Remember to include the initial estimate. The function should also return \n",
    "an array, E, where E[i] is the value of $|f (R[i])|$ for the ith iteration of the bisection method. The \n",
    "function should terminate when E(i) < tol. Assume that $sign(f (a)) \\neq sign(f (b))$.\n",
    "Clariﬁcation: The input a and b constitute the ﬁrst iteration of bisection; therefore, R and E should \n",
    "never be empty."
   ]
  },
  {
   "cell_type": "code",
   "execution_count": 2,
   "metadata": {},
   "outputs": [],
   "source": [
    "def my_bisection(f, a, b, tol):\n",
    "    if np.sign(f(a)) == np.sign(f(b)):\n",
    "        raise ValueError(\"f(a) and f(b) must have opposite signs\")\n",
    "\n",
    "    R = []  # Stores root estimates\n",
    "    E = []  # Stores error estimates\n",
    "\n",
    "    while True:\n",
    "        c = (a + b) / 2  \n",
    "        R.append(c)\n",
    "        E.append(abs(f(c)))  \n",
    "\n",
    "        if E[-1] < tol:  \n",
    "            break\n",
    "\n",
    "        if np.sign(f(a)) != np.sign(f(c)):\n",
    "            b = c\n",
    "        else:\n",
    "            a = c\n",
    "\n",
    "    return R, E  "
   ]
  },
  {
   "cell_type": "code",
   "execution_count": 4,
   "metadata": {},
   "outputs": [
    {
     "name": "stdout",
     "output_type": "stream",
     "text": [
      "[1.0, 1.5, 1.25, 1.375, 1.4375]\n",
      "[1.0, 0.25, 0.4375, 0.109375, 0.06640625]\n"
     ]
    }
   ],
   "source": [
    "f = lambda x: x**2 - 2\n",
    "[R, E] = my_bisection(f, 0, 2, 1e-1)\n",
    "print(R)\n",
    "print(E)"
   ]
  },
  {
   "cell_type": "markdown",
   "metadata": {},
   "source": [
    "5. Write a function my_newton(f,df,x0,tol) that returns [R,E], where f is a function object, df is a \n",
    "function object giving the derivative of f, x0 is an initial estimation of the root, and tol is a strictly \n",
    "positive scalar. The function should return an array, R, where R[i] is the Newton–Raphson estimate \n",
    "of the root of f for the ith iteration. Remember to include the initial estimate. The function should \n",
    "also return an array, E, where E[i] is the value of $|f (R[i])|$ for the ith iteration of the Newton–\n",
    "Raphson method. The function should terminate when E(i) < tol. Assume that the derivative of \n",
    "f will not hit zero during any iteration for any of the test cases given."
   ]
  },
  {
   "cell_type": "code",
   "execution_count": 5,
   "metadata": {},
   "outputs": [],
   "source": [
    "def my_newton(f, df, x0, tol):\n",
    "    R = [x0]  \n",
    "    E = [abs(f(x0))]  \n",
    "\n",
    "    while E[-1] >= tol:  \n",
    "        x_next = R[-1] - f(R[-1]) / df(R[-1])  \n",
    "        R.append(x_next)\n",
    "        E.append(abs(f(x_next)))  \n",
    "\n",
    "    return R, E "
   ]
  },
  {
   "cell_type": "code",
   "execution_count": 6,
   "metadata": {},
   "outputs": [
    {
     "name": "stdout",
     "output_type": "stream",
     "text": [
      "[1, 1.5, 1.4166666666666667, 1.4142156862745099]\n",
      "[1, 0.25, 0.006944444444444642, 6.007304882871267e-06]\n"
     ]
    }
   ],
   "source": [
    "f = lambda x: x**2 - 2\n",
    "df = lambda x: 2*x\n",
    "[R, E] = my_newton(f, df, 1, 1e-5)\n",
    "print(R)\n",
    "print(E)"
   ]
  }
 ],
 "metadata": {
  "kernelspec": {
   "display_name": "Python 3",
   "language": "python",
   "name": "python3"
  },
  "language_info": {
   "codemirror_mode": {
    "name": "ipython",
    "version": 3
   },
   "file_extension": ".py",
   "mimetype": "text/x-python",
   "name": "python",
   "nbconvert_exporter": "python",
   "pygments_lexer": "ipython3",
   "version": "3.13.0"
  }
 },
 "nbformat": 4,
 "nbformat_minor": 2
}
