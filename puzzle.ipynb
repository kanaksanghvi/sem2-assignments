{
 "cells": [
  {
   "cell_type": "code",
   "execution_count": 1,
   "metadata": {},
   "outputs": [
    {
     "name": "stdout",
     "output_type": "stream",
     "text": [
      "The 10-digit number is: 3816547290\n"
     ]
    }
   ],
   "source": [
    "from itertools import permutations\n",
    "\n",
    "def find_divisible_ten_digit_number():\n",
    "    possible_digits = \"0123456789\"\n",
    "    \n",
    "    # Iterate through all possible arrangements of digits\n",
    "    for digit_order in permutations(possible_digits):\n",
    "        constructed_number = \"\".join(digit_order)\n",
    "        \n",
    "        # Check if the number satisfies the divisibility conditions\n",
    "        satisfies_conditions = True\n",
    "        for length in range(1, 11):\n",
    "            current_prefix = int(constructed_number[:length])\n",
    "            if current_prefix % length != 0:\n",
    "                satisfies_conditions = False\n",
    "                break\n",
    "        \n",
    "        # If all conditions are met, return the number\n",
    "        if satisfies_conditions:\n",
    "            return constructed_number\n",
    "    \n",
    "    # Return None if no valid number is found\n",
    "    return None\n",
    "\n",
    "# Execute the function and display the result\n",
    "solution = find_divisible_ten_digit_number()\n",
    "if solution:\n",
    "    print(f\"The valid 10-digit number is: {solution}\")\n",
    "else:\n",
    "    print(\"No valid 10-digit number could be determined.\")\n"
   ]
  },
  {
   "cell_type": "code",
   "execution_count": null,
   "metadata": {},
   "outputs": [],
   "source": []
  }
 ],
 "metadata": {
  "kernelspec": {
   "display_name": "Python 3",
   "language": "python",
   "name": "python3"
  },
  "language_info": {
   "codemirror_mode": {
    "name": "ipython",
    "version": 3
   },
   "file_extension": ".py",
   "mimetype": "text/x-python",
   "name": "python",
   "nbconvert_exporter": "python",
   "pygments_lexer": "ipython3",
   "version": "3.13.0"
  }
 },
 "nbformat": 4,
 "nbformat_minor": 2
}
