{
 "cells": [
  {
   "cell_type": "code",
   "execution_count": 1,
   "metadata": {},
   "outputs": [
    {
     "name": "stdout",
     "output_type": "stream",
     "text": [
      "The 10-digit number is: 3816547290\n"
     ]
    }
   ],
   "source": [
    "from itertools import permutations\n",
    "\n",
    "def find_special_number():\n",
    "    # Generate all permutations of digits 0-9\n",
    "    digits = \"0123456789\"\n",
    "    for perm in permutations(digits):\n",
    "        number = \"\".join(perm)\n",
    "        valid = True\n",
    "        # Check divisibility conditions\n",
    "        for i in range(1, 11):\n",
    "            if int(number[:i]) % i != 0:\n",
    "                valid = False\n",
    "                break\n",
    "        if valid:\n",
    "            return number\n",
    "\n",
    "\n",
    "special_number = find_special_number()\n",
    "if special_number:\n",
    "    print(\"The 10-digit number is:\", special_number)\n",
    "else:\n",
    "    print(\"No valid number found.\")\n"
   ]
  },
  {
   "cell_type": "code",
   "execution_count": null,
   "metadata": {},
   "outputs": [],
   "source": []
  }
 ],
 "metadata": {
  "kernelspec": {
   "display_name": "Python 3",
   "language": "python",
   "name": "python3"
  },
  "language_info": {
   "codemirror_mode": {
    "name": "ipython",
    "version": 3
   },
   "file_extension": ".py",
   "mimetype": "text/x-python",
   "name": "python",
   "nbconvert_exporter": "python",
   "pygments_lexer": "ipython3",
   "version": "3.13.0"
  }
 },
 "nbformat": 4,
 "nbformat_minor": 2
}
