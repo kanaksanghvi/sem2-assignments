{
 "cells": [
  {
   "cell_type": "markdown",
   "metadata": {},
   "source": [
    "# Chapter 4 exercise solutions"
   ]
  },
  {
   "cell_type": "markdown",
   "metadata": {},
   "source": [
    "1. Write a function my_tip_calc(bill, party) where bill is the total cost of a meal and party is\n",
    "the number of people in the group. The tip should be calculated as 15% for a party strictly less than\n",
    "six people, 18% for a party strictly less than eight, 20% for a party less than 11, and 25% for a party\n",
    "11 or more."
   ]
  },
  {
   "cell_type": "code",
   "execution_count": 1,
   "metadata": {},
   "outputs": [],
   "source": [
    "def my_tip_calc(bill, party):\n",
    "    if party < 6:\n",
    "        tip_percentage = 0.15\n",
    "    elif party < 8:\n",
    "        tip_percentage = 0.18\n",
    "    elif party < 11:\n",
    "        tip_percentage = 0.20\n",
    "    else:\n",
    "        tip_percentage = 0.25\n",
    "    \n",
    "    tip = bill * tip_percentage\n",
    "    return tip\n"
   ]
  },
  {
   "cell_type": "code",
   "execution_count": 2,
   "metadata": {},
   "outputs": [
    {
     "name": "stdout",
     "output_type": "stream",
     "text": [
      "16.3935\n"
     ]
    }
   ],
   "source": [
    "t = my_tip_calc(109.29,3)\n",
    "print(t)"
   ]
  },
  {
   "cell_type": "markdown",
   "metadata": {},
   "source": [
    "2. Write a function my_mult_operation(a,b,operation). The input argument, operation, is a string\n",
    "that is either \"plus\", \"minus\", \"mult\", \"div\", or \"pow\", and the function should compute: a + b,\n",
    "a − b, a ∗ b, a/b, and a^b for the respective values for operation. "
   ]
  },
  {
   "cell_type": "code",
   "execution_count": 10,
   "metadata": {},
   "outputs": [],
   "source": [
    "def my_mult_operation(a, b, operation):\n",
    "    if operation == \"plus\":\n",
    "        return a + b\n",
    "    elif operation == \"minus\":\n",
    "        return a - b\n",
    "    elif operation == \"mult\":\n",
    "        return a * b\n",
    "    elif operation == \"div\":\n",
    "        try:\n",
    "            return a / b\n",
    "        except:\n",
    "            print(\"division by zero not allowed\")\n",
    "    elif operation == \"pow\":\n",
    "        return a ** b\n",
    "    else:\n",
    "        return \"Error: Invalid operation\"\n"
   ]
  },
  {
   "cell_type": "code",
   "execution_count": 4,
   "metadata": {},
   "outputs": [],
   "source": [
    "import numpy as np"
   ]
  },
  {
   "cell_type": "code",
   "execution_count": 5,
   "metadata": {},
   "outputs": [],
   "source": [
    "x = np.array([1,2,3,4])\n",
    "y = np.array([2,3,4,5])\n"
   ]
  },
  {
   "cell_type": "code",
   "execution_count": 6,
   "metadata": {},
   "outputs": [
    {
     "data": {
      "text/plain": [
       "array([3, 5, 7, 9])"
      ]
     },
     "execution_count": 6,
     "metadata": {},
     "output_type": "execute_result"
    }
   ],
   "source": [
    "my_mult_operation(x,y,\"plus\")"
   ]
  },
  {
   "cell_type": "code",
   "execution_count": 7,
   "metadata": {},
   "outputs": [
    {
     "data": {
      "text/plain": [
       "array([-1, -1, -1, -1])"
      ]
     },
     "execution_count": 7,
     "metadata": {},
     "output_type": "execute_result"
    }
   ],
   "source": [
    "my_mult_operation(x,y,\"minus\")"
   ]
  },
  {
   "cell_type": "code",
   "execution_count": 8,
   "metadata": {},
   "outputs": [
    {
     "data": {
      "text/plain": [
       "array([ 2,  6, 12, 20])"
      ]
     },
     "execution_count": 8,
     "metadata": {},
     "output_type": "execute_result"
    }
   ],
   "source": [
    "my_mult_operation(x,y,\"mult\")"
   ]
  },
  {
   "cell_type": "code",
   "execution_count": 11,
   "metadata": {},
   "outputs": [
    {
     "data": {
      "text/plain": [
       "array([0.5       , 0.66666667, 0.75      , 0.8       ])"
      ]
     },
     "execution_count": 11,
     "metadata": {},
     "output_type": "execute_result"
    }
   ],
   "source": [
    "my_mult_operation(x,y,\"div\")"
   ]
  },
  {
   "cell_type": "code",
   "execution_count": 12,
   "metadata": {},
   "outputs": [
    {
     "data": {
      "text/plain": [
       "array([   1,    8,   81, 1024])"
      ]
     },
     "execution_count": 12,
     "metadata": {},
     "output_type": "execute_result"
    }
   ],
   "source": [
    "my_mult_operation(x,y,\"pow\")"
   ]
  },
  {
   "cell_type": "markdown",
   "metadata": {},
   "source": [
    "3. Consider a triangle with vertices at (0, 0), (1, 0), and (0, 1). Write a function with the name\n",
    "my_inside_triangle(x,y) where the output is the string \"outside\" if the point (x, y) is outside\n",
    "of the triangle, \"border\" if the point is exactly on the border of the triangle, and \"inside\" if the\n",
    "point is on the inside of the triangle."
   ]
  },
  {
   "cell_type": "code",
   "execution_count": 13,
   "metadata": {},
   "outputs": [],
   "source": [
    "def my_inside_triangle(x, y):\n",
    "    def area(x1, y1, x2, y2, x3, y3):\n",
    "        return abs((x1 * (y2 - y3) + x2 * (y3 - y1) + x3 * (y1 - y2)) / 2.0)\n",
    "    \n",
    "    A = area(0, 0, 1, 0, 0, 1)\n",
    "    A1 = area(x, y, 1, 0, 0, 1)\n",
    "    A2 = area(0, 0, x, y, 0, 1)\n",
    "    A3 = area(0, 0, 1, 0, x, y)\n",
    "    \n",
    "    if A1 + A2 + A3 > A:\n",
    "        return \"outside\"\n",
    "    elif A1 == 0 or A2 == 0 or A3 == 0:\n",
    "        return \"border\"\n",
    "    else:\n",
    "        return \"inside\"\n"
   ]
  },
  {
   "cell_type": "code",
   "execution_count": 14,
   "metadata": {},
   "outputs": [
    {
     "data": {
      "text/plain": [
       "'border'"
      ]
     },
     "execution_count": 14,
     "metadata": {},
     "output_type": "execute_result"
    }
   ],
   "source": [
    "my_inside_triangle(.5,.5)"
   ]
  },
  {
   "cell_type": "code",
   "execution_count": 15,
   "metadata": {},
   "outputs": [
    {
     "data": {
      "text/plain": [
       "'inside'"
      ]
     },
     "execution_count": 15,
     "metadata": {},
     "output_type": "execute_result"
    }
   ],
   "source": [
    "my_inside_triangle(.25,.25)"
   ]
  },
  {
   "cell_type": "code",
   "execution_count": 16,
   "metadata": {},
   "outputs": [
    {
     "data": {
      "text/plain": [
       "'outside'"
      ]
     },
     "execution_count": 16,
     "metadata": {},
     "output_type": "execute_result"
    }
   ],
   "source": [
    "my_inside_triangle(5,5)"
   ]
  },
  {
   "cell_type": "markdown",
   "metadata": {},
   "source": [
    "4. Write a function my_make_size10(x) where x is an array, and output is the first 10 elements of x if\n",
    "x has more than 10 elements, and output is the array x padded with enough zeros to make it length\n",
    "10 if x has less than 10 elements."
   ]
  },
  {
   "cell_type": "code",
   "execution_count": 17,
   "metadata": {},
   "outputs": [],
   "source": [
    "import numpy as np\n",
    "\n",
    "def my_make_size10(x):\n",
    "    if len(x) > 10:\n",
    "        return x[:10]\n",
    "    else:\n",
    "        return np.pad(x, (0, 10 - len(x)), 'constant')\n"
   ]
  },
  {
   "cell_type": "code",
   "execution_count": 18,
   "metadata": {},
   "outputs": [
    {
     "data": {
      "text/plain": [
       "array([1, 0, 0, 0, 0, 0, 0, 0, 0, 0])"
      ]
     },
     "execution_count": 18,
     "metadata": {},
     "output_type": "execute_result"
    }
   ],
   "source": [
    "my_make_size10(range(1,2))"
   ]
  },
  {
   "cell_type": "code",
   "execution_count": 19,
   "metadata": {},
   "outputs": [
    {
     "data": {
      "text/plain": [
       "range(1, 11)"
      ]
     },
     "execution_count": 19,
     "metadata": {},
     "output_type": "execute_result"
    }
   ],
   "source": [
    "my_make_size10(range(1,15))"
   ]
  },
  {
   "cell_type": "markdown",
   "metadata": {},
   "source": [
    "5. Can you write my_make_size10 without using if-statements (i.e., using only logical and array operations)?"
   ]
  },
  {
   "cell_type": "code",
   "execution_count": 21,
   "metadata": {},
   "outputs": [],
   "source": [
    "import numpy as np\n",
    "\n",
    "def my_make_size10(x):\n",
    "    return np.pad(x, (0, max(0, 10 - len(x))), 'constant')[:10]\n"
   ]
  },
  {
   "cell_type": "code",
   "execution_count": 22,
   "metadata": {},
   "outputs": [
    {
     "name": "stdout",
     "output_type": "stream",
     "text": [
      "[ 1  2  3  4  5  6  7  8  9 10]\n",
      "[1 2 3 0 0 0 0 0 0 0]\n"
     ]
    }
   ],
   "source": [
    "print(my_make_size10(np.array([1, 2, 3, 4, 5, 6, 7, 8, 9, 10, 11, 12])))  \n",
    "print(my_make_size10(np.array([1, 2, 3])))                               \n"
   ]
  },
  {
   "cell_type": "markdown",
   "metadata": {},
   "source": [
    "6. Write a function my_letter_grader(percent) where the grade is the string \"A+\" if percent is\n",
    "greater than 97, \"A\" if percent is greater than 93, \"A-\" if percent is greater than 90, \"B+\" if\n",
    "percent is greater than 87, \"B\" if percent is greater than 83, \"B-\" if percent is greater than 80,\n",
    "\"C+\" if percent is greater than 77, \"C\" if percent is greater than 73, \"C-\" if percent is greater than\n",
    "70, \"D+\" if percent is greater than 67, \"D\" if percent is greater than 63, \"D-\" if percent is greater\n",
    "than 60, and \"F\" for any percent less than 60. Grades exactly on the division should be included in\n",
    "the higher grade category."
   ]
  },
  {
   "cell_type": "code",
   "execution_count": 23,
   "metadata": {},
   "outputs": [],
   "source": [
    "def my_letter_grader(percent):\n",
    "    grades = [\"A+\", \"A\", \"A-\", \"B+\", \"B\", \"B-\", \"C+\", \"C\", \"C-\", \"D+\", \"D\", \"D-\", \"F\"]\n",
    "    thresholds = [97, 93, 90, 87, 83, 80, 77, 73, 70, 67, 63, 60, -float(\"inf\")]\n",
    "    for i in range(len(thresholds)):\n",
    "        if percent >= thresholds[i]:\n",
    "            return grades[i]\n"
   ]
  },
  {
   "cell_type": "code",
   "execution_count": 24,
   "metadata": {},
   "outputs": [
    {
     "data": {
      "text/plain": [
       "'A+'"
      ]
     },
     "execution_count": 24,
     "metadata": {},
     "output_type": "execute_result"
    }
   ],
   "source": [
    "my_letter_grader(97)"
   ]
  },
  {
   "cell_type": "code",
   "execution_count": 25,
   "metadata": {},
   "outputs": [
    {
     "data": {
      "text/plain": [
       "'B'"
      ]
     },
     "execution_count": 25,
     "metadata": {},
     "output_type": "execute_result"
    }
   ],
   "source": [
    "my_letter_grader(84)"
   ]
  },
  {
   "cell_type": "markdown",
   "metadata": {},
   "source": [
    "7. Most engineering systems have a built-in redundancy. That is, an engineering system has fail-safes\n",
    "incorporated into the design to accomplish its purpose. Consider a nuclear reactor whose temperature is monitored by three sensors. An alarm should go off if any two of the sensor readings disagree.\n",
    "Write a function my_nuke_alarm(s1,s2,s3) where s1, s2, and s3 are the temperature readings for\n",
    "sensor 1, sensor 2, and sensor 3, respectively. The output should be the string \"alarm!\" if any two\n",
    "of the temperature readings disagree by strictly more than 10 degrees and \"normal\" otherwise."
   ]
  },
  {
   "cell_type": "code",
   "execution_count": 26,
   "metadata": {},
   "outputs": [],
   "source": [
    "def my_nuke_alarm(s1, s2, s3):\n",
    "    if abs(s1 - s2) > 10 or abs(s1 - s3) > 10 or abs(s2 - s3) > 10:\n",
    "        return \"alarm!\"\n",
    "    else:\n",
    "        return \"normal\"\n"
   ]
  },
  {
   "cell_type": "code",
   "execution_count": 27,
   "metadata": {},
   "outputs": [
    {
     "data": {
      "text/plain": [
       "'normal'"
      ]
     },
     "execution_count": 27,
     "metadata": {},
     "output_type": "execute_result"
    }
   ],
   "source": [
    "my_nuke_alarm(94,96,90)"
   ]
  },
  {
   "cell_type": "code",
   "execution_count": 28,
   "metadata": {},
   "outputs": [
    {
     "data": {
      "text/plain": [
       "'alarm!'"
      ]
     },
     "execution_count": 28,
     "metadata": {},
     "output_type": "execute_result"
    }
   ],
   "source": [
    "my_nuke_alarm(94,96,80)"
   ]
  },
  {
   "cell_type": "markdown",
   "metadata": {},
   "source": [
    "\n",
    "\n",
    "8. Let \\( Q(x) \\) be a quadratic equation defined as:\n",
    "\\[ Q(x) = ax^2 + bx + c \\]\n",
    "where \\( a \\), \\( b \\), and \\( c \\) are scalar coefficients. The roots of \\( Q(x) \\) are solutions to:\n",
    "\\[ Q(r) = 0 \\]\n",
    "\n",
    "The quadratic formula to find the roots is:\n",
    "\\[ r = \\frac{-b \\pm \\sqrt{b^2 - 4ac}}{2a} \\]\n",
    "\n",
    "Depending on the value of the discriminant (\\( \\Delta = b^2 - 4ac \\)), the nature of the roots is:\n",
    "- Two real roots: If \\( \\Delta > 0 \\)\n",
    "- One real root: If \\( \\Delta = 0 \\)\n",
    "- Two imaginary roots: If \\( \\Delta < 0 \\)\n",
    "\n",
    "\n"
   ]
  },
  {
   "cell_type": "code",
   "execution_count": 29,
   "metadata": {},
   "outputs": [],
   "source": [
    "import numpy as np\n",
    "\n",
    "def my_n_roots(a, b, c):\n",
    "    discriminant = b**2 - 4*a*c\n",
    "    if discriminant > 0:\n",
    "        n_roots = 2\n",
    "        r = [(-b + np.sqrt(discriminant)) / (2 * a), (-b - np.sqrt(discriminant)) / (2 * a)]\n",
    "    elif discriminant == 0:\n",
    "        n_roots = 1\n",
    "        r = [-b / (2 * a)]\n",
    "    else:\n",
    "        n_roots = -2\n",
    "        real_part = -b / (2 * a)\n",
    "        imag_part = np.sqrt(-discriminant) / (2 * a)\n",
    "        r = [complex(real_part, imag_part), complex(real_part, -imag_part)]\n",
    "    return n_roots, r"
   ]
  },
  {
   "cell_type": "code",
   "execution_count": 30,
   "metadata": {},
   "outputs": [
    {
     "name": "stdout",
     "output_type": "stream",
     "text": [
      "2 [np.float64(3.0), np.float64(-3.0)]\n"
     ]
    }
   ],
   "source": [
    "n_roots, r = my_n_roots(1,0,-9)\n",
    "print(n_roots, r)"
   ]
  },
  {
   "cell_type": "code",
   "execution_count": 31,
   "metadata": {},
   "outputs": [
    {
     "data": {
      "text/plain": [
       "(-2,\n",
       " [(-0.6666666666666666+1.1055415967851332j),\n",
       "  (-0.6666666666666666-1.1055415967851332j)])"
      ]
     },
     "execution_count": 31,
     "metadata": {},
     "output_type": "execute_result"
    }
   ],
   "source": [
    "my_n_roots(3,4,5)"
   ]
  },
  {
   "cell_type": "code",
   "execution_count": 32,
   "metadata": {},
   "outputs": [
    {
     "data": {
      "text/plain": [
       "(1, [-1.0])"
      ]
     },
     "execution_count": 32,
     "metadata": {},
     "output_type": "execute_result"
    }
   ],
   "source": [
    "my_n_roots(2,4,2)"
   ]
  },
  {
   "cell_type": "markdown",
   "metadata": {},
   "source": [
    "9. Write a function my_split_function(f,g,a,b,x), where f and g are function objects f(x) and\n",
    "g(x), respectively. The output should be f(x) if x ≤ a, g(x) if x ≥ b, and 0 otherwise. Assume\n",
    "that b>a."
   ]
  },
  {
   "cell_type": "code",
   "execution_count": 33,
   "metadata": {},
   "outputs": [],
   "source": [
    "def my_split_function(f, g, a, b, x):\n",
    "    if x <= a:\n",
    "        return f(x)\n",
    "    elif x >= b:\n",
    "        return g(x)\n",
    "    else:\n",
    "        return 0\n"
   ]
  },
  {
   "cell_type": "code",
   "execution_count": 34,
   "metadata": {},
   "outputs": [
    {
     "name": "stdout",
     "output_type": "stream",
     "text": [
      "9\n",
      "0\n",
      "22\n"
     ]
    }
   ],
   "source": [
    "def f(x):\n",
    "    return x**2\n",
    "\n",
    "def g(x):\n",
    "    return x + 10\n",
    "\n",
    "# Test the function\n",
    "print(my_split_function(f, g, 5, 10, 3))  \n",
    "print(my_split_function(f, g, 5, 10, 8))  \n",
    "print(my_split_function(f, g, 5, 10, 12)) \n"
   ]
  },
  {
   "cell_type": "code",
   "execution_count": null,
   "metadata": {},
   "outputs": [],
   "source": []
  }
 ],
 "metadata": {
  "kernelspec": {
   "display_name": "Python 3",
   "language": "python",
   "name": "python3"
  },
  "language_info": {
   "codemirror_mode": {
    "name": "ipython",
    "version": 3
   },
   "file_extension": ".py",
   "mimetype": "text/x-python",
   "name": "python",
   "nbconvert_exporter": "python",
   "pygments_lexer": "ipython3",
   "version": "3.13.0"
  }
 },
 "nbformat": 4,
 "nbformat_minor": 2
}
