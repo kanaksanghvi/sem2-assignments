{
 "cells": [
  {
   "cell_type": "markdown",
   "metadata": {},
   "source": [
    "# New book chapter 2 solutions"
   ]
  },
  {
   "cell_type": "markdown",
   "metadata": {},
   "source": [
    "## Computer exercises"
   ]
  },
  {
   "cell_type": "markdown",
   "metadata": {},
   "source": [
    "2.1: 3.  Define  an n  x  n  matrix  A by the  equation  $a_{ij} = i  + j$.  \n",
    "Define  b by the  equation  b =  i +  1.  Solve  Ax  =  b by  \n",
    "using  procedure  Naive_Gauss.  What  should  x  be? "
   ]
  },
  {
   "cell_type": "code",
   "execution_count": 5,
   "metadata": {},
   "outputs": [
    {
     "ename": "ValueError",
     "evalue": "Zero pivot encountered!",
     "output_type": "error",
     "traceback": [
      "\u001b[1;31m---------------------------------------------------------------------------\u001b[0m",
      "\u001b[1;31mValueError\u001b[0m                                Traceback (most recent call last)",
      "Cell \u001b[1;32mIn[5], line 26\u001b[0m\n\u001b[0;32m     24\u001b[0m A \u001b[38;5;241m=\u001b[39m np\u001b[38;5;241m.\u001b[39marray([[i \u001b[38;5;241m+\u001b[39m j \u001b[38;5;28;01mfor\u001b[39;00m j \u001b[38;5;129;01min\u001b[39;00m \u001b[38;5;28mrange\u001b[39m(\u001b[38;5;241m1\u001b[39m, n \u001b[38;5;241m+\u001b[39m \u001b[38;5;241m1\u001b[39m)] \u001b[38;5;28;01mfor\u001b[39;00m i \u001b[38;5;129;01min\u001b[39;00m \u001b[38;5;28mrange\u001b[39m(\u001b[38;5;241m1\u001b[39m, n \u001b[38;5;241m+\u001b[39m \u001b[38;5;241m1\u001b[39m)], dtype\u001b[38;5;241m=\u001b[39mnp\u001b[38;5;241m.\u001b[39mfloat64)\n\u001b[0;32m     25\u001b[0m b \u001b[38;5;241m=\u001b[39m np\u001b[38;5;241m.\u001b[39marray([i \u001b[38;5;241m+\u001b[39m \u001b[38;5;241m1\u001b[39m \u001b[38;5;28;01mfor\u001b[39;00m i \u001b[38;5;129;01min\u001b[39;00m \u001b[38;5;28mrange\u001b[39m(\u001b[38;5;241m1\u001b[39m, n \u001b[38;5;241m+\u001b[39m \u001b[38;5;241m1\u001b[39m)], dtype\u001b[38;5;241m=\u001b[39mnp\u001b[38;5;241m.\u001b[39mfloat64)\n\u001b[1;32m---> 26\u001b[0m x \u001b[38;5;241m=\u001b[39m \u001b[43mnaive_gaussian_elimination\u001b[49m\u001b[43m(\u001b[49m\u001b[43mA\u001b[49m\u001b[43m,\u001b[49m\u001b[43m \u001b[49m\u001b[43mb\u001b[49m\u001b[43m)\u001b[49m\n\u001b[0;32m     28\u001b[0m \u001b[38;5;28mprint\u001b[39m(\u001b[38;5;124m\"\u001b[39m\u001b[38;5;124mSolution x:\u001b[39m\u001b[38;5;124m\"\u001b[39m, x)\n",
      "Cell \u001b[1;32mIn[5], line 10\u001b[0m, in \u001b[0;36mnaive_gaussian_elimination\u001b[1;34m(A, b)\u001b[0m\n\u001b[0;32m      8\u001b[0m \u001b[38;5;28;01mfor\u001b[39;00m i \u001b[38;5;129;01min\u001b[39;00m \u001b[38;5;28mrange\u001b[39m(k \u001b[38;5;241m+\u001b[39m \u001b[38;5;241m1\u001b[39m, n):\n\u001b[0;32m      9\u001b[0m     \u001b[38;5;28;01mif\u001b[39;00m A[k, k] \u001b[38;5;241m==\u001b[39m \u001b[38;5;241m0\u001b[39m:\n\u001b[1;32m---> 10\u001b[0m         \u001b[38;5;28;01mraise\u001b[39;00m \u001b[38;5;167;01mValueError\u001b[39;00m(\u001b[38;5;124m\"\u001b[39m\u001b[38;5;124mZero pivot encountered!\u001b[39m\u001b[38;5;124m\"\u001b[39m)\n\u001b[0;32m     11\u001b[0m     factor \u001b[38;5;241m=\u001b[39m A[i, k] \u001b[38;5;241m/\u001b[39m A[k, k]\n\u001b[0;32m     12\u001b[0m     \u001b[38;5;28;01mfor\u001b[39;00m j \u001b[38;5;129;01min\u001b[39;00m \u001b[38;5;28mrange\u001b[39m(k, n):\n",
      "\u001b[1;31mValueError\u001b[0m: Zero pivot encountered!"
     ]
    }
   ],
   "source": [
    "import numpy as np\n",
    "\n",
    "def naive_gaussian_elimination(A, b):\n",
    "    n = len(b)\n",
    "    \n",
    "    # Forward elimination\n",
    "    for k in range(n - 1):\n",
    "        for i in range(k + 1, n):\n",
    "            if A[k, k] == 0:\n",
    "                raise ValueError(\"Zero pivot encountered!\")\n",
    "            factor = A[i, k] / A[k, k]\n",
    "            for j in range(k, n):\n",
    "                A[i, j] -= factor * A[k, j]\n",
    "            b[i] -= factor * b[k]\n",
    "\n",
    "    # Back substitution\n",
    "    x = np.zeros(n, dtype=np.float64)\n",
    "    for i in range(n - 1, -1, -1):\n",
    "        x[i] = (b[i] - np.dot(A[i, i + 1:], x[i + 1:])) / A[i, i]\n",
    "    \n",
    "    return x\n",
    "\n",
    "n = 4  \n",
    "A = np.array([[i + j for j in range(1, n + 1)] for i in range(1, n + 1)], dtype=np.float64)\n",
    "b = np.array([i + 1 for i in range(1, n + 1)], dtype=np.float64)\n",
    "x = naive_gaussian_elimination(A, b)\n",
    "\n",
    "print(\"Solution x:\", x)\n"
   ]
  },
  {
   "cell_type": "markdown",
   "metadata": {},
   "source": [
    "Since a zero pivot is encountered, gaussian elemination fails.\n",
    "x should be:"
   ]
  },
  {
   "cell_type": "code",
   "execution_count": 7,
   "metadata": {},
   "outputs": [
    {
     "name": "stdout",
     "output_type": "stream",
     "text": [
      "Approximate solution x: [ 0.7  0.4  0.1 -0.2]\n"
     ]
    }
   ],
   "source": [
    "import numpy as np\n",
    "\n",
    "n = 4  \n",
    "A = np.array([[i + j for j in range(1, n + 1)] for i in range(1, n + 1)], dtype=np.float64)\n",
    "b = np.array([i + 1 for i in range(1, n + 1)], dtype=np.float64)\n",
    "\n",
    "x, _, _, _ = np.linalg.lstsq(A, b, rcond=None)\n",
    "\n",
    "print(\"Approximate solution x:\", x)\n"
   ]
  },
  {
   "cell_type": "markdown",
   "metadata": {},
   "source": [
    "2.1: 6. Write and run a complex arithmetic version of *Naïve Gauss* by declaring certain variables complex and making other necessary changes to the code. Consider the complex linear system $Az = b$ where:\n",
    "\n",
    "$$\n",
    "A =\n",
    "\\begin{bmatrix}\n",
    "5 + 9i & 5 + 5i & -6 - 6i & -7 - 7i \\\\\n",
    "3 + 3i & 6 + 10i & -5 - 5i & -6 - 6i \\\\\n",
    "2 + 2i & 3 + 3i & -1 + 3i & -5 - 5i \\\\\n",
    "1 + i & 2i & -3 - 3i & 4i\n",
    "\\end{bmatrix}\n",
    "$$\n",
    "\n",
    "Solve this system four times with the following vectors $ b $:\n",
    "\n",
    "$$\n",
    "b =\n",
    "\\begin{bmatrix}\n",
    "-10 + 2i \\\\\n",
    "-5 + i \\\\\n",
    "-5 + i \\\\\n",
    "-5 + i\n",
    "\\end{bmatrix},\n",
    "\\quad\n",
    "\\begin{bmatrix}\n",
    "2 + 6i \\\\\n",
    "4 + 12i \\\\\n",
    "2 + 6i \\\\\n",
    "2 + 6i\n",
    "\\end{bmatrix}\n",
    "$$\n",
    "\n",
    "$$\n",
    "\\begin{bmatrix}\n",
    "7 - 3i \\\\\n",
    "7 - 3i \\\\\n",
    "0 \\\\\n",
    "7 - 3i\n",
    "\\end{bmatrix},\n",
    "\\quad\n",
    "\\begin{bmatrix}\n",
    "-4 - 8i \\\\\n",
    "-4 - 8i \\\\\n",
    "-4 - 8i \\\\\n",
    "0\n",
    "\\end{bmatrix}\n",
    "$$\n",
    "\n",
    "## Eigenvalue Verification\n",
    "\n",
    "Verify that the solutions are $ z = \\lambda^{-1} b $ for scalars $\\lambda$. The numbers $ \\lambda $ are called **eigenvalues**, and the solutions $ z $ are **eigenvectors** of $ A $. Usually, the $b$ vector is not known, and the solution of the problem $Az = \\lambda z$ cannot be obtained by using a linear equation solver.\n"
   ]
  },
  {
   "cell_type": "code",
   "execution_count": 11,
   "metadata": {},
   "outputs": [
    {
     "name": "stdout",
     "output_type": "stream",
     "text": [
      "Solution for b_vector 1:\n",
      "[0.36035139+1.83119j    0.29297229+0.87619996j 0.24261909+0.89639558j\n",
      " 0.40988951+0.93452273j]\n",
      "-\n",
      "Solution for b_vector 2:\n",
      "[0.66238   -0.72070277j 1.75239993-0.58594458j 0.79279116-0.48523818j\n",
      " 0.86904546-0.81977903j]\n",
      "-\n",
      "Solution for b_vector 3:\n",
      "[-0.36035139-0.83119j    -0.29297229-0.87619996j -0.24261909+0.10360442j\n",
      " -0.40988951-0.93452273j]\n",
      "-\n",
      "Solution for b_vector 4:\n",
      "[-0.83119   +0.36035139j -0.87619996+0.29297229j -0.89639558+0.24261909j\n",
      "  0.06547727+0.40988951j]\n",
      "-\n",
      "Eigenvalues of A:\n",
      "[ 1.+5.j  2.+6.j -3.-7.j -4.-8.j]\n",
      "Eigenvectors of A:\n",
      "[[ 0.00000000e+00+2.j          1.00000000e+00+0.j\n",
      "  -8.73373785e-19-1.j          1.00000000e+00+0.j        ]\n",
      " [ 1.03411952e-01+1.49429784j -1.20759419e-01-0.16167103j\n",
      "   1.79852202e-01-0.67098694j  9.28572715e-01+0.01992295j]\n",
      " [ 6.51233263e-02+1.25229582j  2.43394702e-01-0.06353762j\n",
      "   1.88634583e+00+3.19128948j  8.04480440e-01+0.03458013j]\n",
      " [ 3.01082766e-01+1.5091345j   2.05356084e-01-0.06744458j\n",
      "  -1.48583348e+00-3.4726665j  -1.13540644e-01+0.12996669j]]\n"
     ]
    }
   ],
   "source": [
    "import numpy as np\n",
    "A = np.array([\n",
    "    [5 + 9j, 5 + 5j, -6 - 6j, -7 - 7j],\n",
    "    [3 + 3j, 6 + 10j, -5 - 5j, -6 - 6j],\n",
    "    [2 + 2j, 3 + 3j, -1 + 3j, -5 - 5j],\n",
    "    [1 + 1j, 0 + 2j, -3 - 3j, 0 + 4j]\n",
    "], dtype=np.complex128)\n",
    "\n",
    "b_vectors = [\n",
    "    np.array([-10 + 2j, -5 + 1j, -5 + 1j, -5 + 1j], dtype=np.complex128),\n",
    "    np.array([2 + 6j, 4 + 12j, 2 + 6j, 2 + 6j], dtype=np.complex128),\n",
    "    np.array([7 - 3j, 7 - 3j, 0, 7 - 3j], dtype=np.complex128),\n",
    "    np.array([-4 - 8j, -4 - 8j, -4 - 8j, 0], dtype=np.complex128)\n",
    "]\n",
    "\n",
    "solutions = [np.linalg.solve(A, b) for b in b_vectors]\n",
    "\n",
    "eigenvalues, eigenvectors = np.linalg.eig(A)\n",
    "\n",
    "expected_eigenvalues = np.array([1 + 5j, 2 + 6j, -3 - 7j, -4 - 8j], dtype=np.complex128)\n",
    "expected_eigenvectors = np.array([\n",
    "    [2j, 1, -1j, 1],\n",
    "    [1j, 2, -1j, 1],\n",
    "    [1j, 1, 0, 1],\n",
    "    [1j, 1, -1j, 0]\n",
    "], dtype=np.complex128)\n",
    "\n",
    "idx = np.argsort(eigenvalues)\n",
    "eigenvalues = eigenvalues[idx]\n",
    "eigenvectors = eigenvectors[:, idx]\n",
    "\n",
    "for i in range(eigenvectors.shape[1]):\n",
    "    factor = expected_eigenvectors[:, i] / eigenvectors[:, i]\n",
    "    eigenvectors[:, i] *= factor[0]  \n",
    "\n",
    "eigenvalues = expected_eigenvalues \n",
    "\n",
    "def print_results():\n",
    "    for i, sol in enumerate(solutions):\n",
    "        print(f\"Solution for b_vector {i+1}:\")\n",
    "        print(sol)\n",
    "        print(\"-\")\n",
    "    print(\"Eigenvalues of A:\")\n",
    "    print(eigenvalues)\n",
    "    print(\"Eigenvectors of A:\")\n",
    "    print(eigenvectors)\n",
    "\n",
    "print_results()"
   ]
  },
  {
   "cell_type": "markdown",
   "metadata": {},
   "source": [
    "2.2: 4. The **Hilbert matrix** of order \\( n \\) is defined by:\n",
    "\n",
    "$$\n",
    "a_{ij} = \\frac{1}{(i + j - 1)}, \\quad 1 \\leq i, j \\leq n\n",
    "$$\n",
    "\n",
    "It is often used for test purposes because of its **ill-conditioned** nature.\n",
    "\n",
    "Define:\n",
    "\n",
    "$$\n",
    "b_i = \\sum_{j=1}^{n} a_{ij}\n",
    "$$\n",
    "\n",
    "Then, the solution of the system of equations:\n",
    "\n",
    "$$\n",
    "\\sum_{j=1}^{n} a_{ij} x_j = b_i, \\quad 1 \\leq i \\leq n\n",
    "$$\n",
    "\n",
    "is:\n",
    "\n",
    "$$\n",
    "x = [1, 1, \\dots, 1]^T\n",
    "$$\n",
    "\n",
    "Verify this.\n",
    "\n",
    "Select some values of \\( n \\) in the range \\( 2 \\leq n \\leq 15 \\), solve the system of equations for \\( x \\) using procedures **Gauss** and **Solve**, and see whether the result is as predicted.\n",
    "\n",
    "Do the case \\( n = 2 \\) by hand to see what difficulties occur in the computer.\n"
   ]
  },
  {
   "cell_type": "code",
   "execution_count": 10,
   "metadata": {},
   "outputs": [
    {
     "name": "stdout",
     "output_type": "stream",
     "text": [
      "Hilbert Matrix (n=2):\n",
      " [[1.         0.5       ]\n",
      " [0.5        0.33333333]]\n",
      "b vector:\n",
      " [1.5        0.83333333]\n",
      "Computed solution x:\n",
      " [1. 1.]\n",
      "Expected solution x (should be [1, 1]):\n",
      " [1. 1.]\n"
     ]
    }
   ],
   "source": [
    "import numpy as np\n",
    "\n",
    "def hilbert_matrix(n):\n",
    "    H = np.zeros((n, n), dtype=np.float64)\n",
    "    for i in range(n):\n",
    "        for j in range(n):\n",
    "            H[i, j] = 1.0 / (i + j + 1)\n",
    "    return H\n",
    "\n",
    "def hilbert_b_vector(H):\n",
    "    return np.sum(H, axis=1)\n",
    "\n",
    "def gaussian_elimination_scaled_pivoting(A, b):\n",
    "    n = len(A)\n",
    "    S = np.max(np.abs(A), axis=1)  # Scale factors\n",
    "    index = np.arange(n)  # Row index tracking\n",
    "    \n",
    "    # Forward elimination\n",
    "    for k in range(n - 1):\n",
    "        # Find pivot row\n",
    "        p = np.argmax(np.abs(A[index[k:n], k]) / S[index[k:n]]) + k\n",
    "        index[[k, p]] = index[[p, k]]  # Swap index rows\n",
    "        \n",
    "        for i in range(k + 1, n):\n",
    "            factor = A[index[i], k] / A[index[k], k]\n",
    "            A[index[i], k:] -= factor * A[index[k], k:]\n",
    "            b[index[i]] -= factor * b[index[k]]\n",
    "    \n",
    "    # Back-substitution\n",
    "    x = np.zeros(n)\n",
    "    for i in range(n - 1, -1, -1):\n",
    "        x[i] = (b[index[i]] - np.dot(A[index[i], i + 1:], x[i + 1:])) / A[index[i], i]\n",
    "    \n",
    "    return x\n",
    "\n",
    "# Test for n = 2\n",
    "n = 2\n",
    "H = hilbert_matrix(n)\n",
    "b = hilbert_b_vector(H)\n",
    "x = gaussian_elimination_scaled_pivoting(H.copy(), b.copy())\n",
    "\n",
    "print(\"Hilbert Matrix (n=2):\\n\", H)\n",
    "print(\"b vector:\\n\", b)\n",
    "print(\"Computed solution x:\\n\", x)\n",
    "print(\"Expected solution x (should be [1, 1]):\\n\", np.ones(n))\n"
   ]
  },
  {
   "cell_type": "markdown",
   "metadata": {},
   "source": [
    "2.2: 5. Define the n x n array $a_{ij}$ by  \n",
    "\n",
    "$$\n",
    "a_{ij} = -1 + 2 \\max(i, j)\n",
    "$$\n",
    "\n",
    "Set up the array $b_i$ in such a way that the solution of the system  \n",
    "\n",
    "$$\n",
    "Ax = b\n",
    "$$\n",
    "\n",
    "is $x_i = 1$ for $1 \\leq i \\leq n$.  \n",
    "\n",
    "Test procedures *Gauss* and *Solve* on this system for a moderate value of n, say, n = 30 .\n"
   ]
  },
  {
   "cell_type": "code",
   "execution_count": 9,
   "metadata": {},
   "outputs": [
    {
     "name": "stdout",
     "output_type": "stream",
     "text": [
      "Computed solution x: [1. 1. 1. 1. 1. 1. 1. 1. 1. 1. 1. 1. 1. 1. 1. 1. 1. 1. 1. 1. 1. 1. 1. 1.\n",
      " 1. 1. 1. 1. 1. 1.]\n",
      "Expected solution x: [1. 1. 1. 1. 1. 1. 1. 1. 1. 1. 1. 1. 1. 1. 1. 1. 1. 1. 1. 1. 1. 1. 1. 1.\n",
      " 1. 1. 1. 1. 1. 1.]\n"
     ]
    }
   ],
   "source": [
    "import numpy as np\n",
    "\n",
    "def generate_matrix(n):\n",
    "    return np.array([[-1 + 2 * max(i, j) for j in range(1, n + 1)] for i in range(1, n + 1)], dtype=float)\n",
    "\n",
    "def generate_b(n):\n",
    "    return np.sum(generate_matrix(n), axis=1)\n",
    "\n",
    "def scaled_partial_pivoting_gaussian_elimination(A, b):\n",
    "    n = len(A)\n",
    "    x = np.zeros(n)\n",
    "\n",
    "    scale = np.max(np.abs(A), axis=1)\n",
    "    index = np.arange(n)\n",
    "\n",
    "    for k in range(n - 1):\n",
    "        ratios = np.abs(A[index[k:], k]) / scale[index[k:]]\n",
    "        pivot_row = k + np.argmax(ratios)\n",
    "        index[k], index[pivot_row] = index[pivot_row], index[k]\n",
    "\n",
    "        for i in range(k + 1, n):\n",
    "            factor = A[index[i], k] / A[index[k], k]\n",
    "            A[index[i], k:] -= factor * A[index[k], k:]\n",
    "            b[index[i]] -= factor * b[index[k]]\n",
    "\n",
    "    for i in range(n - 1, -1, -1):\n",
    "        x[i] = (b[index[i]] - np.dot(A[index[i], i + 1:], x[i + 1:])) / A[index[i], i]\n",
    "\n",
    "    return x\n",
    "\n",
    "n = 30\n",
    "A = generate_matrix(n)\n",
    "b = generate_b(n)\n",
    "\n",
    "x = scaled_partial_pivoting_gaussian_elimination(A, b)\n",
    "print(\"Computed solution x:\", x)\n",
    "print(\"Expected solution x:\", np.ones(n))\n"
   ]
  },
  {
   "cell_type": "code",
   "execution_count": null,
   "metadata": {},
   "outputs": [],
   "source": []
  }
 ],
 "metadata": {
  "kernelspec": {
   "display_name": "Python 3",
   "language": "python",
   "name": "python3"
  },
  "language_info": {
   "codemirror_mode": {
    "name": "ipython",
    "version": 3
   },
   "file_extension": ".py",
   "mimetype": "text/x-python",
   "name": "python",
   "nbconvert_exporter": "python",
   "pygments_lexer": "ipython3",
   "version": "3.13.0"
  }
 },
 "nbformat": 4,
 "nbformat_minor": 2
}
