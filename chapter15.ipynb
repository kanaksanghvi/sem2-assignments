{
 "cells": [
  {
   "cell_type": "markdown",
   "metadata": {},
   "source": [
    "# Chapter 15 exercise solutions"
   ]
  },
  {
   "cell_type": "code",
   "execution_count": 1,
   "metadata": {},
   "outputs": [],
   "source": [
    "import numpy as np\n"
   ]
  },
  {
   "cell_type": "markdown",
   "metadata": {},
   "source": [
    "1. Write down the characteristic equation for matrix A = $\\begin{bmatrix}\n",
    "3 & 2 \\\\\n",
    "5 & 3 \n",
    "\\end{bmatrix}$"
   ]
  },
  {
   "cell_type": "code",
   "execution_count": 4,
   "metadata": {},
   "outputs": [
    {
     "name": "stdout",
     "output_type": "stream",
     "text": [
      "Characteristic Equation: x^2 -6.0λ^2 -1.0λ^1 = 0\n"
     ]
    }
   ],
   "source": [
    "A = np.array([[3,2],[5,3]])\n",
    "char_poly_coeffs = np.poly(A) #gives coefficients of the char poly\n",
    "\n",
    "n = len(char_poly_coeffs)\n",
    "equation = \"x^{} \".format(n-1)\n",
    "for i in range(1, n):\n",
    "    coef = char_poly_coeffs[i]\n",
    "    if coef >= 0:\n",
    "        equation += \"+ \"\n",
    "    equation += f\"{coef.round(2)}λ^{n-i} \"\n",
    "equation += \"= 0\"\n",
    "\n",
    "print(\"Characteristic Equation:\", equation)"
   ]
  },
  {
   "cell_type": "markdown",
   "metadata": {},
   "source": [
    "2. Use the above characteristic equation to solve for eigenvalues and eigenvectors of matrix A."
   ]
  },
  {
   "cell_type": "code",
   "execution_count": 8,
   "metadata": {},
   "outputs": [
    {
     "name": "stdout",
     "output_type": "stream",
     "text": [
      "eigenvalues: [ 6.16227766 -0.16227766]\n",
      "eigenvectors: [array([[0.53452248],\n",
      "       [0.84515425]]), array([[-0.53452248],\n",
      "       [ 0.84515425]])]\n"
     ]
    }
   ],
   "source": [
    "import scipy.linalg as la\n",
    "\n",
    "print(\"eigenvalues:\",np.roots(char_poly_coeffs))\n",
    "eig_vectors = []\n",
    "for i in range(len(np.roots(char_poly_coeffs))):\n",
    "    λ = np.roots(char_poly_coeffs)[i]\n",
    "    I = np.eye(A.shape[0])\n",
    "    A_lambda_I = A - λ * I\n",
    "    eigenvector = la.null_space(A_lambda_I)\n",
    "    eig_vectors.append(eigenvector)\n",
    "print(\"eigenvectors:\",eig_vectors)"
   ]
  },
  {
   "cell_type": "markdown",
   "metadata": {},
   "source": [
    "3. Use the ﬁrst eigenvector derived from Problem 2 to verify that Ax = λx."
   ]
  },
  {
   "cell_type": "code",
   "execution_count": 13,
   "metadata": {},
   "outputs": [
    {
     "name": "stdout",
     "output_type": "stream",
     "text": [
      "Ax: [[3.29387596]\n",
      " [5.20807518]]\n",
      "lambda*x: [[3.29387596]\n",
      " [5.20807518]]\n",
      "verified\n"
     ]
    }
   ],
   "source": [
    "lambda1 = 6.16227766\n",
    "x = eig_vectors[0]\n",
    "lambda1_x = lambda1 * x\n",
    "Ax = np.dot(A,x)\n",
    "print(\"Ax:\",Ax)\n",
    "print(\"lambda*x:\",lambda1_x)\n",
    "if np.allclose(Ax, lambda1_x):\n",
    "    print(\"verified\")"
   ]
  }
 ],
 "metadata": {
  "kernelspec": {
   "display_name": "Python 3",
   "language": "python",
   "name": "python3"
  },
  "language_info": {
   "codemirror_mode": {
    "name": "ipython",
    "version": 3
   },
   "file_extension": ".py",
   "mimetype": "text/x-python",
   "name": "python",
   "nbconvert_exporter": "python",
   "pygments_lexer": "ipython3",
   "version": "3.13.0"
  }
 },
 "nbformat": 4,
 "nbformat_minor": 2
}
