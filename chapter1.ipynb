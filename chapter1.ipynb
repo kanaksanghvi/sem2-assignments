{
 "cells": [
  {
   "cell_type": "markdown",
   "metadata": {},
   "source": [
    "# Chapter 1 exercise solutions "
   ]
  },
  {
   "cell_type": "markdown",
   "metadata": {},
   "source": [
    "5. Compute the area of a triangle with base 10 and height 12. Recall that the area of a triangle is half\n",
    "the base times the height."
   ]
  },
  {
   "cell_type": "code",
   "execution_count": 9,
   "metadata": {},
   "outputs": [
    {
     "name": "stdout",
     "output_type": "stream",
     "text": [
      "60.0\n"
     ]
    }
   ],
   "source": [
    "area = 0.5*10*12\n",
    "print(area)"
   ]
  },
  {
   "cell_type": "markdown",
   "metadata": {},
   "source": [
    "6. Compute the surface area and volume of a cylinder with radius 5 and height 3."
   ]
  },
  {
   "cell_type": "code",
   "execution_count": 10,
   "metadata": {},
   "outputs": [],
   "source": [
    "import math as m"
   ]
  },
  {
   "cell_type": "code",
   "execution_count": 11,
   "metadata": {},
   "outputs": [
    {
     "name": "stdout",
     "output_type": "stream",
     "text": [
      "volume =  235.61944901923448\n",
      "surface area =  251.32741228718345\n"
     ]
    }
   ],
   "source": [
    "r = 5\n",
    "h = 3\n",
    "vol = m.pi*r*r*h\n",
    "sa = 2*m.pi*r*h + 2*m.pi*r*r\n",
    "print(\"volume = \", vol)\n",
    "print(\"surface area = \", sa)"
   ]
  },
  {
   "cell_type": "markdown",
   "metadata": {},
   "source": [
    "7. Compute the slope between the points (3, 4) and (5, 9)."
   ]
  },
  {
   "cell_type": "code",
   "execution_count": 12,
   "metadata": {},
   "outputs": [
    {
     "name": "stdout",
     "output_type": "stream",
     "text": [
      "2.5\n"
     ]
    }
   ],
   "source": [
    "point1 = (3,4)\n",
    "point2 = (5,9)\n",
    "slope = (point2[1]-point1[1])/(point2[0]-point1[0])\n",
    "print(slope)"
   ]
  },
  {
   "cell_type": "markdown",
   "metadata": {},
   "source": [
    "8. Compute the distance between the points (3, 4) and (5, 9)."
   ]
  },
  {
   "cell_type": "code",
   "execution_count": 13,
   "metadata": {},
   "outputs": [
    {
     "name": "stdout",
     "output_type": "stream",
     "text": [
      "5.385164807134504\n"
     ]
    }
   ],
   "source": [
    "point1 = (3,4)\n",
    "point2 = (5,9)\n",
    "dist = m.sqrt ((point2[0]-point1[0])**2 + (point2[1]-point1[1])**2)\n",
    "print(dist)"
   ]
  },
  {
   "cell_type": "markdown",
   "metadata": {},
   "source": [
    "9. Use Python’s factorial function to compute 6!"
   ]
  },
  {
   "cell_type": "code",
   "execution_count": 14,
   "metadata": {},
   "outputs": [
    {
     "data": {
      "text/plain": [
       "720"
      ]
     },
     "execution_count": 14,
     "metadata": {},
     "output_type": "execute_result"
    }
   ],
   "source": [
    "m.factorial(6)"
   ]
  },
  {
   "cell_type": "markdown",
   "metadata": {
    "vscode": {
     "languageId": "sql"
    }
   },
   "source": [
    "10. Although a year is considered to be 365 days long, a more exact figure is 365.24 days. As a\n",
    "consequence, if we held to the standard 365-day year, we would gradually lose that fraction of the\n",
    "day over time, and seasons and other astronomical events would not occur as expected. To keep\n",
    "the timescale on tract, a leap year is a year that includes an extra day, February 29, to keep the\n",
    "timescale on track. Leap years occur on years that are exactly divisible by 4, unless it is exactly\n",
    "divisible by 100, unless it is divisible by 400. For example, the year 2004 is a leap year, the year\n",
    "1900 is not a leap year, and the year 2000 is a leap year. Compute the number of leap years between\n",
    "the years 1500 and 2010."
   ]
  },
  {
   "cell_type": "code",
   "execution_count": 15,
   "metadata": {},
   "outputs": [
    {
     "name": "stdout",
     "output_type": "stream",
     "text": [
      "122\n"
     ]
    }
   ],
   "source": [
    "count = 0\n",
    "for i in range (1500, 2001):\n",
    "    if i%400==0:\n",
    "        count+=1\n",
    "    elif i%100==0:\n",
    "        pass\n",
    "    elif i%4==0:\n",
    "        count+=1\n",
    "    else:\n",
    "        pass\n",
    "\n",
    "print(count)"
   ]
  },
  {
   "cell_type": "markdown",
   "metadata": {},
   "source": [
    "11. A very powerful approximation for π was developed by a brilliant mathematician named Srinivasa\n",
    "Ramanujan. The approximation is the following:\n",
    "$$\n",
    "\\frac{1}{\\pi} \\approx \\frac{2\\sqrt{2}}{9801} \\sum_{k=0}^{N} \\frac{(4k)!(1103 + 26390k)}{(k!)^4 396^{4k}}\n",
    "$$\n",
    "\n",
    "Use Ramanujan’s formula for N = 0 and N = 1 to approximate π. Compare your approximation\n",
    "with Python’s stored value for π"
   ]
  },
  {
   "cell_type": "code",
   "execution_count": 21,
   "metadata": {},
   "outputs": [
    {
     "name": "stdout",
     "output_type": "stream",
     "text": [
      "for N=0 approx value of pi we get is: 3.1415927300133055\n",
      "the difference between this value and python's value for pi is: 7.642351240733092e-08\n",
      "for N=1 approx value of pi we get is: 3.141592653589794\n",
      "the difference between this value and python's value for pi is: 8.881784197001252e-16\n"
     ]
    }
   ],
   "source": [
    "#for k=0, storing the value of the expression inside sigma in k0\n",
    "k0 = 1103\n",
    "\n",
    "def find_pi(N):\n",
    "    sum = k0\n",
    "    for k in range (1, N+1):\n",
    "        x=(m.factorial(4*k)*(1103 + 26390*k))/(m.pow(m.factorial(k),4)*m.pow(396,4*k))\n",
    "        sum+=x\n",
    "    pi = 9801/((2*m.sqrt(2)*sum))\n",
    "    return pi\n",
    "\n",
    "print(\"for N=0 approx value of pi we get is:\", find_pi(0))\n",
    "print(\"the difference between this value and python's value for pi is:\", abs(m.pi-find_pi(0)))\n",
    "print(\"for N=1 approx value of pi we get is:\", find_pi(1))\n",
    "print(\"the difference between this value and python's value for pi is:\", abs(m.pi-find_pi(1)))\n"
   ]
  },
  {
   "cell_type": "markdown",
   "metadata": {},
   "source": [
    "12. Compute sinh for x = 2 using exponentials. Verify that the result is indeed the hyperbolic sin using Python’s function sinh in the math module."
   ]
  },
  {
   "cell_type": "code",
   "execution_count": 22,
   "metadata": {},
   "outputs": [
    {
     "name": "stdout",
     "output_type": "stream",
     "text": [
      "sinh(2) by formula: 3.626860407847019\n",
      "sinh(2) using python's inbuilt function: 3.6268604078470186\n"
     ]
    }
   ],
   "source": [
    "x = 2\n",
    "sinh_formula = (m.exp(x)-m.exp(-x))/2\n",
    "print(\"sinh(2) by formula:\", sinh_formula)\n",
    "print(\"sinh(2) using python's inbuilt function:\", m.sinh(2))"
   ]
  },
  {
   "cell_type": "markdown",
   "metadata": {},
   "source": [
    "13. Verify that $\\sin^2(x) + \\cos^2(x) = 1$ for x = π, π/2 , π/4 , π/6 ."
   ]
  },
  {
   "cell_type": "code",
   "execution_count": 29,
   "metadata": {},
   "outputs": [
    {
     "name": "stdout",
     "output_type": "stream",
     "text": [
      "verified\n",
      "verified\n",
      "verified\n",
      "verified\n"
     ]
    }
   ],
   "source": [
    "def verify(x):\n",
    "    verified = \"verified\"\n",
    "    not_verified = \"not verified\"\n",
    "    result = m.sin(x)**2 + m.cos(x)**2\n",
    "    final = round(result, 5)\n",
    "    if final == 1.00000:\n",
    "        return verified\n",
    "    else:\n",
    "        return not_verified\n",
    "    \n",
    "print(verify(m.pi))\n",
    "print(verify(m.pi/2))\n",
    "print(verify(m.pi/4))\n",
    "print(verify(m.pi/6))"
   ]
  },
  {
   "cell_type": "markdown",
   "metadata": {},
   "source": [
    "14. Compute the sin 87°.\n"
   ]
  },
  {
   "cell_type": "code",
   "execution_count": 30,
   "metadata": {},
   "outputs": [
    {
     "data": {
      "text/plain": [
       "0.9986295347545738"
      ]
     },
     "execution_count": 30,
     "metadata": {},
     "output_type": "execute_result"
    }
   ],
   "source": [
    "m.sin(m.radians(87))"
   ]
  },
  {
   "cell_type": "markdown",
   "metadata": {},
   "source": [
    "15. Write a Python statement that generates the following error: “AttributeError: module ‘math’ has\n",
    "no attribute ‘sni’.” Hint: sni is a misspelling of the function sin."
   ]
  },
  {
   "cell_type": "code",
   "execution_count": 31,
   "metadata": {},
   "outputs": [
    {
     "ename": "AttributeError",
     "evalue": "module 'math' has no attribute 'sni'",
     "output_type": "error",
     "traceback": [
      "\u001b[1;31m---------------------------------------------------------------------------\u001b[0m",
      "\u001b[1;31mAttributeError\u001b[0m                            Traceback (most recent call last)",
      "Cell \u001b[1;32mIn[31], line 1\u001b[0m\n\u001b[1;32m----> 1\u001b[0m \u001b[43mm\u001b[49m\u001b[38;5;241;43m.\u001b[39;49m\u001b[43msni\u001b[49m(\u001b[38;5;241m5\u001b[39m)\n",
      "\u001b[1;31mAttributeError\u001b[0m: module 'math' has no attribute 'sni'"
     ]
    }
   ],
   "source": [
    "m.sni(5)"
   ]
  },
  {
   "cell_type": "markdown",
   "metadata": {},
   "source": [
    "16. Write a Python statement that generates the following error: “TypeError: sin() takes exactly one\n",
    "argument (0 given).”"
   ]
  },
  {
   "cell_type": "code",
   "execution_count": 32,
   "metadata": {},
   "outputs": [
    {
     "ename": "TypeError",
     "evalue": "math.sin() takes exactly one argument (0 given)",
     "output_type": "error",
     "traceback": [
      "\u001b[1;31m---------------------------------------------------------------------------\u001b[0m",
      "\u001b[1;31mTypeError\u001b[0m                                 Traceback (most recent call last)",
      "Cell \u001b[1;32mIn[32], line 1\u001b[0m\n\u001b[1;32m----> 1\u001b[0m \u001b[43mm\u001b[49m\u001b[38;5;241;43m.\u001b[39;49m\u001b[43msin\u001b[49m\u001b[43m(\u001b[49m\u001b[43m)\u001b[49m\n",
      "\u001b[1;31mTypeError\u001b[0m: math.sin() takes exactly one argument (0 given)"
     ]
    }
   ],
   "source": [
    "m.sin()"
   ]
  },
  {
   "cell_type": "markdown",
   "metadata": {},
   "source": [
    "17. If P is a logical expression, the law of noncontradiction states that P AND (NOT P) is always false.\n",
    "Verify this for P true and P false."
   ]
  },
  {
   "cell_type": "code",
   "execution_count": 33,
   "metadata": {},
   "outputs": [
    {
     "name": "stdout",
     "output_type": "stream",
     "text": [
      "False\n",
      "False\n"
     ]
    }
   ],
   "source": [
    "def evaluate(p):\n",
    "    return p and (not p)\n",
    "print(evaluate(True))\n",
    "print(evaluate(False))"
   ]
  },
  {
   "cell_type": "markdown",
   "metadata": {},
   "source": [
    "18. Let P and Q be logical expressions. De Morgan’s rule states that NOT (P OR Q) = (NOT P) AND\n",
    "(NOT Q) and NOT (P AND Q) = (NOT P) OR (NOT Q). Generate the truth tables for each\n",
    "statement to show that De Morgan’s rule is always true."
   ]
  },
  {
   "cell_type": "code",
   "execution_count": 36,
   "metadata": {},
   "outputs": [
    {
     "name": "stdout",
     "output_type": "stream",
     "text": [
      "for statement 1:\n",
      "True True False False\n",
      "True False False False\n",
      "False True False False\n",
      "False False True True\n",
      "for statement 2:\n",
      "True True False False\n",
      "True False True True\n",
      "False True True True\n",
      "False False True True\n"
     ]
    }
   ],
   "source": [
    "def statement_1(p,q):\n",
    "    return (not p) and (not q)\n",
    "def statement_2(p,q):\n",
    "    return (not p) or (not q)\n",
    "t = True\n",
    "f = False\n",
    "print(\"for statement 1:\")\n",
    "print(t, t, statement_1(t,t) , not(t or t))\n",
    "print(t, f, statement_1(t,f) , not(t or f))\n",
    "print(f, t, statement_1(f,t) , not(f or t))\n",
    "print(f, f, statement_1(f,f) , not(f or f))\n",
    "print(\"for statement 2:\")\n",
    "print(t, t, statement_2(t,t) , not(t and t))\n",
    "print(t, f, statement_2(t,f) , not(t and f))\n",
    "print(f, t, statement_2(f,t) , not(f and t))\n",
    "print(f, f, statement_2(f,f) , not(f and f))\n",
    "\n"
   ]
  },
  {
   "cell_type": "markdown",
   "metadata": {},
   "source": [
    "19. Under what conditions for P and Q is (P AND Q) OR (P AND (NOT Q)) false?"
   ]
  },
  {
   "cell_type": "code",
   "execution_count": 37,
   "metadata": {},
   "outputs": [
    {
     "name": "stdout",
     "output_type": "stream",
     "text": [
      "P =  False Q =  True\n",
      "P =  False Q =  False\n"
     ]
    }
   ],
   "source": [
    "def compute(p, q):\n",
    "    return (p and q) or (p and (not q))\n",
    "l = [True, False]\n",
    "for p in l:\n",
    "    for q in l:\n",
    "        if compute(p,q)==False:\n",
    "            print(\"P = \", p, \"Q = \", q)"
   ]
  },
  {
   "cell_type": "markdown",
   "metadata": {},
   "source": [
    "20. Construct an equivalent logical expression for OR using only AND and NOT"
   ]
  },
  {
   "cell_type": "code",
   "execution_count": 39,
   "metadata": {},
   "outputs": [
    {
     "data": {
      "text/plain": [
       "True"
      ]
     },
     "execution_count": 39,
     "metadata": {},
     "output_type": "execute_result"
    }
   ],
   "source": [
    "P=False\n",
    "q=True\n",
    "not((not p) and (not q))"
   ]
  },
  {
   "cell_type": "markdown",
   "metadata": {},
   "source": [
    "21. Construct an equivalent logical expression for AND using only OR and NOT"
   ]
  },
  {
   "cell_type": "code",
   "execution_count": 40,
   "metadata": {},
   "outputs": [
    {
     "data": {
      "text/plain": [
       "False"
      ]
     },
     "execution_count": 40,
     "metadata": {},
     "output_type": "execute_result"
    }
   ],
   "source": [
    "P=False\n",
    "q=True\n",
    "not((not p) or (not q))"
   ]
  },
  {
   "cell_type": "markdown",
   "metadata": {},
   "source": [
    "22. Construct an equivalent logical expression for XOR using only AND, OR, and NOT "
   ]
  },
  {
   "cell_type": "code",
   "execution_count": 41,
   "metadata": {},
   "outputs": [
    {
     "data": {
      "text/plain": [
       "True"
      ]
     },
     "execution_count": 41,
     "metadata": {},
     "output_type": "execute_result"
    }
   ],
   "source": [
    "P=False\n",
    "q=True\n",
    "(p and (not q)) or (q and (not p))"
   ]
  },
  {
   "cell_type": "markdown",
   "metadata": {},
   "source": [
    "23. Do the following calculation at the Python command prompt:\n",
    "$$ e^2 \\sin\\left(\\frac{\\pi}{6}\\right) + \\log_e(3) \\cos\\left(\\frac{\\pi}{9}\\right) - 5^3 $$\n"
   ]
  },
  {
   "cell_type": "code",
   "execution_count": 42,
   "metadata": {},
   "outputs": [
    {
     "data": {
      "text/plain": [
       "-120.27311408976854"
      ]
     },
     "execution_count": 42,
     "metadata": {},
     "output_type": "execute_result"
    }
   ],
   "source": [
    "m.exp(2)*m.sin(m.pi/6) + m.log(3)*m.cos(m.pi/9) - m.pow(5,3)"
   ]
  },
  {
   "cell_type": "markdown",
   "metadata": {},
   "source": [
    "24. Do the following logical and comparison operations at the Python command prompt. You may\n",
    "assume that P and Q are logical expressions. For P = 1 and Q = 1, compute NOT(P) AND\n",
    "NOT(Q). For a = 10 and b = 25, compute (a < b) AND (a = b)."
   ]
  },
  {
   "cell_type": "code",
   "execution_count": 43,
   "metadata": {},
   "outputs": [
    {
     "name": "stdout",
     "output_type": "stream",
     "text": [
      "False\n",
      "False\n"
     ]
    }
   ],
   "source": [
    "p = 1\n",
    "q = 1\n",
    "print((not p) and (not q))\n",
    "a = 10\n",
    "b = 25\n",
    "print((a<b) and (a==b))"
   ]
  },
  {
   "cell_type": "code",
   "execution_count": null,
   "metadata": {},
   "outputs": [],
   "source": []
  }
 ],
 "metadata": {
  "kernelspec": {
   "display_name": "Python 3",
   "language": "python",
   "name": "python3"
  },
  "language_info": {
   "codemirror_mode": {
    "name": "ipython",
    "version": 3
   },
   "file_extension": ".py",
   "mimetype": "text/x-python",
   "name": "python",
   "nbconvert_exporter": "python",
   "pygments_lexer": "ipython3",
   "version": "3.13.0"
  }
 },
 "nbformat": 4,
 "nbformat_minor": 2
}
