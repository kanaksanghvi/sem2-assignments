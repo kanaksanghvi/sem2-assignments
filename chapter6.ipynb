{
 "cells": [
  {
   "cell_type": "markdown",
   "metadata": {},
   "source": [
    "# Chapter 6 exercise solution"
   ]
  },
  {
   "cell_type": "markdown",
   "metadata": {},
   "source": [
    "1. Write a function my_sum(lst) where lst is a list, and the output is the sum of all the elements of\n",
    "lst. You can use a recursion or iteration function to solve the problem, but do not use Python’s\n",
    "sum function"
   ]
  },
  {
   "cell_type": "code",
   "execution_count": 1,
   "metadata": {},
   "outputs": [],
   "source": [
    "def my_sum(lst):\n",
    "    s = 0\n",
    "    for i in lst:\n",
    "        s+=i\n",
    "    return s"
   ]
  },
  {
   "cell_type": "code",
   "execution_count": 2,
   "metadata": {},
   "outputs": [
    {
     "data": {
      "text/plain": [
       "6"
      ]
     },
     "execution_count": 2,
     "metadata": {},
     "output_type": "execute_result"
    }
   ],
   "source": [
    "my_sum([1, 2, 3])"
   ]
  },
  {
   "cell_type": "markdown",
   "metadata": {},
   "source": [
    "2. Chebyshev polynomials are defined recursively and separated into two kinds: first and second.\n",
    "Chebyshev polynomials of the first kind, T_n(x), and of the second kind, U_n(x), are defined by the following recurrence relations:\n",
    "\n",
    "$\n",
    "T_n(x) = \\begin{cases} \n",
    "1 & \\text{if } n = 0, \\\\\n",
    "x & \\text{if } n = 1, \\\\\n",
    "2xT_{n-1}(x) - T_{n-2}(x) & \\text{otherwise},\n",
    "\\end{cases}\n",
    "$\n",
    "\n",
    "$\n",
    "U_n(x) = \\begin{cases} \n",
    "1 & \\text{if } n = 0, \\\\\n",
    "2x & \\text{if } n = 1, \\\\\n",
    "2xU_{n-1}(x) - U_{n-2}(x) & \\text{otherwise}.\n",
    "\\end{cases}\n",
    "$\n",
    "\n",
    "Write a function `my_chebyshev_poly1(n, x)` where the output y is the n-th Chebyshev polynomial of the first kind evaluated at x. Be sure your function can take list inputs for x. You may assume\n",
    "that x is a list. The output variable, y, must be a list also.\n"
   ]
  },
  {
   "cell_type": "code",
   "execution_count": 3,
   "metadata": {},
   "outputs": [],
   "source": [
    "def recursive_part(n, i):\n",
    "            if n == 0 :\n",
    "                return 1\n",
    "            elif n == 1 :\n",
    "                return i\n",
    "            else:\n",
    "                return 2*i*recursive_part(n-1, i) - recursive_part(n-2, i)\n",
    "def my_chebyshev_poly1(n, x):\n",
    "    y = []\n",
    "    for i in x:\n",
    "        y.append(recursive_part(n, i))\n",
    "    return y    "
   ]
  },
  {
   "cell_type": "code",
   "execution_count": 4,
   "metadata": {},
   "outputs": [
    {
     "name": "stdout",
     "output_type": "stream",
     "text": [
      "[1, 1, 1, 1, 1]\n",
      "[1, 26, 99, 244, 485]\n"
     ]
    }
   ],
   "source": [
    "x = [1, 2, 3, 4, 5]\n",
    "print(my_chebyshev_poly1(0,x))\n",
    "print(my_chebyshev_poly1(3,x))"
   ]
  },
  {
   "cell_type": "markdown",
   "metadata": {},
   "source": [
    "3. The Ackermann function, A(m, n), is a rapidly growing function defined by the following recursive relationship:\n",
    "\n",
    "$\n",
    "A(m, n) = \\begin{cases} \n",
    "    n + 1 & \\text{if } m = 0, \\\\\n",
    "    A(m - 1, 1) & \\text{if } m > 0 \\text{ and } n = 0, \\\\\n",
    "    A(m - 1, A(m, n - 1)) & \\text{if } m > 0 \\text{ and } n > 0.\n",
    "\\end{cases}\n",
    "$\n",
    "\n",
    "Write a function my_ackermann(m,n) where the output is the Ackermann function computed for m\n",
    "and n.\n",
    "my_ackermann(4,4) is so large that it would be difficult to write down. Although the Ackermann\n",
    "function does not have many practical uses, the inverse Ackermann function has several uses in\n",
    "robotic motion planning.\n"
   ]
  },
  {
   "cell_type": "code",
   "execution_count": 5,
   "metadata": {},
   "outputs": [],
   "source": [
    "def my_ackermann(m, n):\n",
    "    if m == 0:\n",
    "        return n+1\n",
    "    elif m > 0 and n == 0:\n",
    "        return my_ackermann(m-1, 1)\n",
    "    elif m > 0 and n > 0:\n",
    "        return my_ackermann(m-1, my_ackermann(m, n-1))"
   ]
  },
  {
   "cell_type": "code",
   "execution_count": 6,
   "metadata": {},
   "outputs": [
    {
     "data": {
      "text/plain": [
       "4"
      ]
     },
     "execution_count": 6,
     "metadata": {},
     "output_type": "execute_result"
    }
   ],
   "source": [
    "my_ackermann(1,2)"
   ]
  },
  {
   "cell_type": "code",
   "execution_count": 7,
   "metadata": {},
   "outputs": [
    {
     "data": {
      "text/plain": [
       "125"
      ]
     },
     "execution_count": 7,
     "metadata": {},
     "output_type": "execute_result"
    }
   ],
   "source": [
    "my_ackermann(3,4)"
   ]
  },
  {
   "cell_type": "markdown",
   "metadata": {},
   "source": [
    "4. The function, C(n, k), computes the number of different ways of uniquely choosing k objects from\n",
    "n without repetition; it is commonly used in many statistics applications. For example, how many\n",
    "three-flavored ice cream sundaes are there if there are 10 ice-cream flavors? To solve this problem\n",
    "we would have to compute C(10, 3), i.e., the number of ways of choosing three unique ice cream\n",
    "flavors from 10. The function C is commonly called “n choose k.” You may assume that n and k\n",
    "are integers.\n",
    "If n = k, then clearly C(n, k) = 1 because there is only way to choose n objects from n objects.\n",
    "If k = 1, then C(n, k) = n because choosing each of the n objects is a way of choosing one object\n",
    "from n. For all other cases,\n",
    "C(n, k) = C(n − 1,k) + C(n − 1, k − 1).\n",
    "Can you see why?\n",
    "Write a function my_n_choose_k(n,k) that computes the number of times k objects can be\n",
    "uniquely chosen from n objects without repetition."
   ]
  },
  {
   "cell_type": "code",
   "execution_count": 8,
   "metadata": {},
   "outputs": [],
   "source": [
    "def my_n_choose_k(n, k):\n",
    "    if k == 0 or k == n:\n",
    "        return 1  \n",
    "    if k == 1:\n",
    "        return n  \n",
    "    else: \n",
    "        return my_n_choose_k(n - 1, k) + my_n_choose_k(n - 1, k - 1)"
   ]
  },
  {
   "cell_type": "code",
   "execution_count": 9,
   "metadata": {},
   "outputs": [
    {
     "data": {
      "text/plain": [
       "120"
      ]
     },
     "execution_count": 9,
     "metadata": {},
     "output_type": "execute_result"
    }
   ],
   "source": [
    "my_n_choose_k(10,3)"
   ]
  },
  {
   "cell_type": "markdown",
   "metadata": {},
   "source": [
    "5. For any purchases paid in cash, the seller must return money that was overpaid. This is commonly\n",
    "referred to as “giving change.” The bills and coins required to properly give change can be defined by a recursive relationship. If the amount paid is more than $100 more than the cost, then a\n",
    "100-dollar bill is returned, which is the result of a recursive call to the change function with $100\n",
    "subtracted from the amount paid. If the amount paid is more than $50 over the cost of the item,\n",
    "then a 50-dollar bill is returned, along with the result of a recursive call to the change function\n",
    "with $50 subtracted. Similar clauses can be given for every denomination of US currency. The\n",
    "denominations of US currency, in dollars, are 100, 50, 20, 10, 5, 1, 0.25, 0.10, 0.05, and 0.01. For\n",
    "this problem, we will ignore the 2-dollar bill, which is not in common circulation. Assume that\n",
    "cost and paid are scalars and that paid ≥ cost. The output variable, change, must be a list, as\n",
    "shown in the test case.\n",
    "Use recursion to program a function my_change(cost, paid) where cost is the cost of the item,\n",
    "paid is the amount paid, and the output change is a list of bills and coins that should be returned\n",
    "to the seller. Watch out for the base case!"
   ]
  },
  {
   "cell_type": "code",
   "execution_count": 10,
   "metadata": {},
   "outputs": [],
   "source": [
    "def my_change(cost, paid):\n",
    "    denominations = [100, 50, 20, 10, 5, 1, 0.25, 0.10, 0.05, 0.01]\n",
    "    change = []\n",
    "    \n",
    "    def calculate_change(amount):\n",
    "        if amount < 0.01:\n",
    "            return\n",
    "        for denomination in denominations:\n",
    "            if amount >= denomination:\n",
    "                change.append(denomination)\n",
    "                calculate_change(round(amount - denomination, 2))\n",
    "                break\n",
    "    \n",
    "    calculate_change(paid - cost)\n",
    "    return change"
   ]
  },
  {
   "cell_type": "code",
   "execution_count": 11,
   "metadata": {},
   "outputs": [
    {
     "data": {
      "text/plain": [
       "[50, 20, 1, 1, 0.25, 0.1, 0.05, 0.01, 0.01, 0.01]"
      ]
     },
     "execution_count": 11,
     "metadata": {},
     "output_type": "execute_result"
    }
   ],
   "source": [
    "my_change(27.57, 100)"
   ]
  },
  {
   "cell_type": "markdown",
   "metadata": {},
   "source": [
    "6. The golden ratio, $\\phi$, is the limit of $\\frac{F(n+1)}{F(n)}$ as $n$ goes to infinity and $F(n)$ is the nth Fibonacci number, which can be shown to be exactly $\\frac{1+\\sqrt{5}}{2}$ and is approximately $1.62$. We say that $G(n) = \\frac{F(n+1)}{F(n)}$ is the nth approximation of the golden ratio and $G(1) = 1$.\n",
    "\n",
    "It can be shown that $\\phi$ is also the limit of the continued fraction:\n",
    "\n",
    "$$\n",
    "\\phi = 1 + \\cfrac{1}{1 + \\cfrac{1}{1 + \\cfrac{1}{1 + \\cdots}}}\n",
    "$$\n",
    "\n",
    "Write a recursive function with the header `my_golden_ratio(n)`, where the output is the nth approximation of the golden ratio according to the continued fraction recursive relationship. Use the continued fraction approximation for the golden ratio and not the $G(n) = \\frac{F(n+1)}{F(n)}$ definition; however, for both definitions, $G(1) = 1$.\n",
    "\n",
    "Studies have shown that rectangles with aspect ratio (i.e., length divided by width) close to the golden ratio are more pleasing to the eye than rectangles that are not. What is the aspect ratio of many wide-screen TVs and movie screens?\n"
   ]
  },
  {
   "cell_type": "code",
   "execution_count": 12,
   "metadata": {},
   "outputs": [],
   "source": [
    "def my_golden_ratio(n):\n",
    "    if n == 1:\n",
    "        return 1\n",
    "    return 1 + 1 / my_golden_ratio(n - 1)"
   ]
  },
  {
   "cell_type": "code",
   "execution_count": 13,
   "metadata": {},
   "outputs": [
    {
     "data": {
      "text/plain": [
       "1.6181818181818182"
      ]
     },
     "execution_count": 13,
     "metadata": {},
     "output_type": "execute_result"
    }
   ],
   "source": [
    "my_golden_ratio(10)"
   ]
  },
  {
   "cell_type": "markdown",
   "metadata": {},
   "source": [
    "7. The greatest common divisor of two integers a and b is the largest integer that divides both numbers\n",
    "without remainder; the function to compute it is denoted by gcd(a,b). The gcd function can be\n",
    "written recursively. If b equals 0, then a is the greatest common divisor. Otherwise, gcd(a,b) =\n",
    "gcd(b,a%b) where a%b is the remainder of a divided by b. Assume that a and b are integers.\n",
    "Write a recursive function my_gcd(a,b) that computes the greatest common divisor of a and b.\n",
    "Assume that a and b are integers."
   ]
  },
  {
   "cell_type": "code",
   "execution_count": 2,
   "metadata": {},
   "outputs": [],
   "source": [
    "def my_gcd(a, b):\n",
    "    if b == 0:\n",
    "        return a\n",
    "    return my_gcd(b, a % b)"
   ]
  },
  {
   "cell_type": "code",
   "execution_count": 3,
   "metadata": {},
   "outputs": [
    {
     "data": {
      "text/plain": [
       "6"
      ]
     },
     "execution_count": 3,
     "metadata": {},
     "output_type": "execute_result"
    }
   ],
   "source": [
    "my_gcd(48, 18)"
   ]
  },
  {
   "cell_type": "markdown",
   "metadata": {},
   "source": [
    "8. Let Rm represent the mth row of Pascal’s triangle and Rm(n) be the nth element of the row. By\n",
    "definition, Rm has m elements, and Rm(1) = Rm(n) = 1. The remaining elements are computed\n",
    "using the following recursive relationship: Rm(i) = Rm−1(i − 1) + Rm−1(i) for i = 2,...,m − 1. Write a function with my_pascal_row(m) where output variable row is the mth row of the Pascal\n",
    "triangle and must be a list. Assume that m is a strictly positive integer."
   ]
  },
  {
   "cell_type": "code",
   "execution_count": 16,
   "metadata": {},
   "outputs": [],
   "source": [
    "def my_pascal_row(m):\n",
    "    if m == 1:\n",
    "        return [1]\n",
    "    previous_row = my_pascal_row(m - 1)\n",
    "    row = [1]\n",
    "    for i in range(1, len(previous_row)):\n",
    "        row.append(previous_row[i - 1] + previous_row[i])\n",
    "    row.append(1)\n",
    "    return row"
   ]
  },
  {
   "cell_type": "code",
   "execution_count": 17,
   "metadata": {},
   "outputs": [
    {
     "data": {
      "text/plain": [
       "[1, 4, 6, 4, 1]"
      ]
     },
     "execution_count": 17,
     "metadata": {},
     "output_type": "execute_result"
    }
   ],
   "source": [
    "my_pascal_row(5)"
   ]
  },
  {
   "cell_type": "markdown",
   "metadata": {},
   "source": [
    "9. Consider an n × n matrix of the following form:\n",
    "\n",
    "$$\n",
    "A = \n",
    "\\begin{bmatrix}\n",
    "1 & 1 & 1 & 1 & 1 \\\\\\\\\n",
    "1 & 0 & 0 & 0 & 0 \\\\\\\\\n",
    "1 & 0 & 1 & 1 & 0 \\\\\\\\\n",
    "1 & 0 & 0 & 1 & 0 \\\\\\\\\n",
    "1 & 1 & 1 & 1 & 0\n",
    "\\end{bmatrix}\n",
    "$$\n",
    "\n",
    "where the ones form a right spiral. Write a function my_spiral_ones(n) that produces a n × n\n",
    "matrix of the given form. Make sure that the recursive steps are in the correct order (i.e., the ones\n",
    "go right, then down, then left, then up, then right, etc.)."
   ]
  },
  {
   "cell_type": "code",
   "execution_count": 4,
   "metadata": {},
   "outputs": [],
   "source": [
    "import numpy as np\n",
    "\n",
    "def my_spiral_ones(n):\n",
    "    if n == 0:\n",
    "        return np.zeros((0, 0), dtype=int)\n",
    "    elif n == 1:\n",
    "        return [[1]]\n",
    "\n",
    "    prev_matrix = my_spiral_ones(n - 1)\n",
    "    new_matrix = np.zeros((n, n), dtype=int)\n",
    "\n",
    "    if n % 4 == 2:\n",
    "        # right\n",
    "        for i in range(n - 1):\n",
    "            for j in range(n - 1):\n",
    "                new_matrix[i][j] = prev_matrix[i][j]\n",
    "\n",
    "        for i in range(n):\n",
    "            new_matrix[i][n - 1] = 1\n",
    "\n",
    "    elif n % 4 == 3:\n",
    "        # down\n",
    "        for i in range(n - 1):\n",
    "            for j in range(n - 1):\n",
    "                new_matrix[i][j+1] = prev_matrix[i][j]\n",
    "\n",
    "        for j in range(n):\n",
    "            new_matrix[n-1][j] = 1\n",
    "\n",
    "    elif n % 4 == 0:\n",
    "        # left\n",
    "        for i in range(n - 1):\n",
    "            for j in range(n - 1):\n",
    "                new_matrix[i+1][j+1] = prev_matrix[i][j]\n",
    "\n",
    "        for i in range(n):\n",
    "            new_matrix[i][0] = 1\n",
    "    else:\n",
    "        # up\n",
    "        for i in range(n - 1):\n",
    "            for j in range(n - 1):\n",
    "                new_matrix[i+1][j] = prev_matrix[i][j]\n",
    "\n",
    "        for j in range(n):\n",
    "            new_matrix[0][j] = 1\n",
    "\n",
    "    return new_matrix\n",
    "    "
   ]
  },
  {
   "cell_type": "code",
   "execution_count": 5,
   "metadata": {},
   "outputs": [
    {
     "data": {
      "text/plain": [
       "[[1]]"
      ]
     },
     "execution_count": 5,
     "metadata": {},
     "output_type": "execute_result"
    }
   ],
   "source": [
    "my_spiral_ones(1)"
   ]
  },
  {
   "cell_type": "code",
   "execution_count": 6,
   "metadata": {},
   "outputs": [
    {
     "data": {
      "text/plain": [
       "array([[1, 1, 1, 1, 1],\n",
       "       [1, 0, 0, 0, 0],\n",
       "       [1, 0, 1, 1, 0],\n",
       "       [1, 0, 0, 1, 0],\n",
       "       [1, 1, 1, 1, 0]])"
      ]
     },
     "execution_count": 6,
     "metadata": {},
     "output_type": "execute_result"
    }
   ],
   "source": [
    "my_spiral_ones(5)"
   ]
  },
  {
   "cell_type": "code",
   "execution_count": 7,
   "metadata": {},
   "outputs": [
    {
     "data": {
      "text/plain": [
       "array([[1, 1, 1, 1, 1, 1, 1, 1, 1],\n",
       "       [1, 0, 0, 0, 0, 0, 0, 0, 0],\n",
       "       [1, 0, 1, 1, 1, 1, 1, 1, 0],\n",
       "       [1, 0, 1, 0, 0, 0, 0, 1, 0],\n",
       "       [1, 0, 1, 0, 1, 1, 0, 1, 0],\n",
       "       [1, 0, 1, 0, 0, 1, 0, 1, 0],\n",
       "       [1, 0, 1, 1, 1, 1, 0, 1, 0],\n",
       "       [1, 0, 0, 0, 0, 0, 0, 1, 0],\n",
       "       [1, 1, 1, 1, 1, 1, 1, 1, 0]])"
      ]
     },
     "execution_count": 7,
     "metadata": {},
     "output_type": "execute_result"
    }
   ],
   "source": [
    "my_spiral_ones(9)"
   ]
  },
  {
   "cell_type": "markdown",
   "metadata": {},
   "source": []
  }
 ],
 "metadata": {
  "kernelspec": {
   "display_name": "Python 3",
   "language": "python",
   "name": "python3"
  },
  "language_info": {
   "codemirror_mode": {
    "name": "ipython",
    "version": 3
   },
   "file_extension": ".py",
   "mimetype": "text/x-python",
   "name": "python",
   "nbconvert_exporter": "python",
   "pygments_lexer": "ipython3",
   "version": "3.13.0"
  }
 },
 "nbformat": 4,
 "nbformat_minor": 2
}
