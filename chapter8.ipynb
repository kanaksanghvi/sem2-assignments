{
 "cells": [
  {
   "cell_type": "markdown",
   "metadata": {},
   "source": [
    "# Chapter 8 exercise solutions"
   ]
  },
  {
   "cell_type": "markdown",
   "metadata": {},
   "source": [
    "7. Run the following two iterative implementations of ﬁnding Fibonacci numbers in the line_pro-\n",
    "filer as well as using the magic command to get the repeated run time. The ﬁrst implementation \n",
    "preallocates memory to an array that stores all the Fibonacci numbers. The second implementation \n",
    "expands the list at each iteration of the for-loop."
   ]
  },
  {
   "cell_type": "code",
   "execution_count": 2,
   "metadata": {},
   "outputs": [
    {
     "name": "stdout",
     "output_type": "stream",
     "text": [
      "The line_profiler extension is already loaded. To reload it, use:\n",
      "  %reload_ext line_profiler\n"
     ]
    },
    {
     "name": "stderr",
     "output_type": "stream",
     "text": [
      "C:\\Users\\Kanak Sanghvi\\AppData\\Local\\Temp\\ipykernel_11592\\574171966.py:7: RuntimeWarning: overflow encountered in scalar add\n",
      "  out[i] = out[i-1] + out[i-2]\n"
     ]
    },
    {
     "name": "stdout",
     "output_type": "stream",
     "text": [
      "3 ms ± 551 μs per loop (mean ± std. dev. of 7 runs, 100 loops each)\n",
      "6.9 ms ± 573 μs per loop (mean ± std. dev. of 7 runs, 100 loops each)\n"
     ]
    },
    {
     "name": "stdout",
     "output_type": "stream",
     "text": [
      "Timer unit: 1e-07 s\n",
      "\n",
      "Total time: 0.0089212 s\n",
      "\n",
      "Could not find file C:\\Users\\Kanak Sanghvi\\AppData\\Local\\Temp\\ipykernel_11592\\574171966.py\n",
      "Are you sure you are running this program from the same directory\n",
      "that you ran the profiler from?\n",
      "Continuing without the function's contents.\n",
      "\n",
      "Line #      Hits         Time  Per Hit   % Time  Line Contents\n",
      "==============================================================\n",
      "    10                                           \n",
      "    11         1          6.0      6.0      0.0  \n",
      "    12      9999      22363.0      2.2     25.1  \n",
      "    13      9998      51765.0      5.2     58.0  \n",
      "    14         1      15078.0  15078.0     16.9"
     ]
    }
   ],
   "source": [
    "import numpy as np\n",
    "\n",
    "def my_fib_iter1(n): \n",
    "    out = np.zeros(n)\n",
    "    out[:2] = 1\n",
    "    for i in range(2, n):\n",
    "        out[i] = out[i-1] + out[i-2]\n",
    "    return out\n",
    "\n",
    "def my_fib_iter2(n):\n",
    "    out = [1, 1]\n",
    "    for i in range(2, n): \n",
    "        out.append(out[i-1] + out[i-2])\n",
    "    return np.array(out)\n",
    "\n",
    "#Enable the line profiler\n",
    "%load_ext line_profiler\n",
    "\n",
    "#Run line_profiler on the functions\n",
    "n = 10000 \n",
    "%lprun -f my_fib_iter1 my_fib_iter1(n)\n",
    "%lprun -f my_fib_iter2 my_fib_iter2(n)\n",
    "\n",
    "#Measure runtime using %timeit\n",
    "%timeit my_fib_iter1(n)\n",
    "%timeit my_fib_iter2(n)\n"
   ]
  },
  {
   "cell_type": "code",
   "execution_count": null,
   "metadata": {},
   "outputs": [],
   "source": []
  }
 ],
 "metadata": {
  "kernelspec": {
   "display_name": "Python 3",
   "language": "python",
   "name": "python3"
  },
  "language_info": {
   "codemirror_mode": {
    "name": "ipython",
    "version": 3
   },
   "file_extension": ".py",
   "mimetype": "text/x-python",
   "name": "python",
   "nbconvert_exporter": "python",
   "pygments_lexer": "ipython3",
   "version": "3.13.0"
  }
 },
 "nbformat": 4,
 "nbformat_minor": 2
}
