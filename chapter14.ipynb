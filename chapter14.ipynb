{
 "cells": [
  {
   "cell_type": "markdown",
   "metadata": {},
   "source": [
    "# Chapter 14 exercise solution"
   ]
  },
  {
   "cell_type": "markdown",
   "metadata": {},
   "source": [
    "3. Write a function my_is_orthogonal(v1,v2,tol)where v1and v2are column vectors of the same \n",
    "size, and tolis a scalar value strictly larger than zero. The output should be 1 if the angle between \n",
    "v1 and v2 is within tol of π/2, that is, |π/2 − θ| < tol, and zero otherwise. You may assume that \n",
    "v1 and v2 are column vectors of the same size, and that tol is a positive scalar."
   ]
  },
  {
   "cell_type": "code",
   "execution_count": 3,
   "metadata": {},
   "outputs": [],
   "source": [
    "import numpy as np\n",
    "\n",
    "def my_is_orthogonal(v1, v2, tol):\n",
    "    dot_product = np.dot(v1.flatten(), v2.flatten())\n",
    "    \n",
    "    magnitude_v1 = np.linalg.norm(v1)\n",
    "    magnitude_v2 = np.linalg.norm(v2)\n",
    "    cos_theta = dot_product / (magnitude_v1 * magnitude_v2)\n",
    "    \n",
    "    theta = np.arccos(cos_theta)\n",
    "    \n",
    "    if abs(np.pi/2 - theta) < tol:\n",
    "        return 1\n",
    "    else:\n",
    "        return 0"
   ]
  },
  {
   "cell_type": "code",
   "execution_count": 5,
   "metadata": {},
   "outputs": [
    {
     "data": {
      "text/plain": [
       "1"
      ]
     },
     "execution_count": 5,
     "metadata": {},
     "output_type": "execute_result"
    }
   ],
   "source": [
    "a = np.array([[1], [0.001]])\n",
    "b = np.array([[0.001], [1]]) \n",
    "my_is_orthogonal(a,b, 0.01)"
   ]
  },
  {
   "cell_type": "markdown",
   "metadata": {},
   "source": [
    "3. Write a function my_is_similar(s1,s2,tol) where s1 and s2 are strings, not necessarily of the \n",
    "same size, and tol is a scalar value strictly larger than zero. From s1 and s2, the function should \n",
    "construct two vectors, v1 and v2, where v1[0] is the number of a’s in s1, v1[1] is the number b’s \n",
    "in s1, and so on until v1[25], which is the number of z’s in v1. The vector v2 should be similarly \n",
    "constructed from s2. The output should be 1 if the absolute value of the angle between v1 and v2 \n",
    "is less than tol, that is, |θ| < tol."
   ]
  },
  {
   "cell_type": "code",
   "execution_count": 6,
   "metadata": {},
   "outputs": [],
   "source": [
    "def my_is_similar(s1, s2, tol):\n",
    "    def string_to_vector(s):\n",
    "        vector = np.zeros(26)\n",
    "        for char in s:\n",
    "            if 'a' <= char <= 'z':\n",
    "                vector[ord(char) - ord('a')] += 1\n",
    "        return vector\n",
    "    \n",
    "    v1 = string_to_vector(s1)\n",
    "    v2 = string_to_vector(s2)\n",
    "    \n",
    "    dot_product = np.dot(v1, v2)\n",
    "    magnitude_v1 = np.linalg.norm(v1)\n",
    "    magnitude_v2 = np.linalg.norm(v2)\n",
    "    \n",
    "    if magnitude_v1 == 0 or magnitude_v2 == 0:\n",
    "        return 0\n",
    "    \n",
    "    cos_theta = dot_product / (magnitude_v1 * magnitude_v2)\n",
    "    theta = np.arccos(cos_theta)\n",
    "    \n",
    "    if abs(theta) < tol:\n",
    "        return 1\n",
    "    else:\n",
    "        return 0"
   ]
  },
  {
   "cell_type": "code",
   "execution_count": 8,
   "metadata": {},
   "outputs": [
    {
     "name": "stdout",
     "output_type": "stream",
     "text": [
      "0\n"
     ]
    }
   ],
   "source": [
    "s1 = \"hello\"\n",
    "s2 = \"yellow\"\n",
    "tol = 0.1\n",
    "\n",
    "result = my_is_similar(s1, s2, tol)\n",
    "print(result)"
   ]
  },
  {
   "cell_type": "markdown",
   "metadata": {},
   "source": [
    "4. Write a function my_make_lin_ind(A) where A and B are matrices. Let rank(A) = n. Then B \n",
    "should be a matrix containing the ﬁrst n columns of A that are all linearly independent. Note that \n",
    "this implies that B has full rank."
   ]
  },
  {
   "cell_type": "code",
   "execution_count": 3,
   "metadata": {},
   "outputs": [],
   "source": [
    "import numpy as np"
   ]
  },
  {
   "cell_type": "code",
   "execution_count": 1,
   "metadata": {},
   "outputs": [],
   "source": [
    "def my_make_lin_ind(A):\n",
    "    A = np.array(A)\n",
    "\n",
    "    rank = np.linalg.matrix_rank(A)\n",
    "    independent_columns = []\n",
    "    temp_matrix = np.zeros((A.shape[0], 0))\n",
    "\n",
    "    for col in range(A.shape[1]):\n",
    "        temp_matrix = np.column_stack((temp_matrix, A[:, col]))\n",
    "        if np.linalg.matrix_rank(temp_matrix) > len(independent_columns):\n",
    "            independent_columns.append(A[:, col])\n",
    "        if len(independent_columns) == rank:\n",
    "            break\n",
    "    B = np.column_stack(independent_columns)\n",
    "\n",
    "    return B"
   ]
  },
  {
   "cell_type": "code",
   "execution_count": 4,
   "metadata": {},
   "outputs": [
    {
     "data": {
      "text/plain": [
       "array([[ 12,  11, -24,  15],\n",
       "       [ 19,  10, -31,   9],\n",
       "       [  1,  21,  -5,  20],\n",
       "       [  6,  13, -10,   5],\n",
       "       [ 22,   2, -12,  23]])"
      ]
     },
     "execution_count": 4,
     "metadata": {},
     "output_type": "execute_result"
    }
   ],
   "source": [
    "A = np.array([[12,24,0,11,-24,18,15],\n",
    "[19,38,0,10,-31,25,9],[1,2,0,21,-5,3,20],\n",
    "[6,12,0,13,-10,8,5],\n",
    "[22,44,0,2,-12,17,23]])\n",
    "\n",
    "B=my_make_lin_ind(A)\n",
    "\n",
    "B"
   ]
  },
  {
   "cell_type": "markdown",
   "metadata": {},
   "source": [
    "12. Consider the following network shown in Fig. 14.1 consisting of two power supply stations denoted by `S1` and `S2` and five power recipient nodes denoted by `N1` to `N5`. The nodes are connected by power lines, which are denoted by arrows, and power can flow between nodes along these lines in both directions.\n",
    "Let $d_i$ be a positive scalar denoting the power demand for node $i$; assume that this demand must be met exactly. The capacity of the power supply stations is denoted by $S$. Power supply stations must run at capacity. For each arrow, let $f_j$ be the power flow along that arrow. Negative flow implies that power is running in the opposite direction of the arrow.\n",
    "Write a function `my_flow_calculator(S,d)` where `S` is a $1 × 2$ vector representing the capacity of each power supply station, and `d` is a $1 × 5$ row vector representing the demands at each node (i.e., $d[0]$ is the demand at node 1). The output argument, `f`, should be a $1 × 7$ row vector denoting the flows in the network (i.e., `f[0]` = $f_1$ in the diagram). The flows contained in `f` should satisfy all the constraints of the system, like power generation and demands. Note that there may be more than one solution to the system of equations.\n",
    "The total flow into a node must equal the total flow out of the node plus the demand; that is, for each node $i$, $f_{\\text{inflow}} = f_{\\text{outflow}} + d_i$. You may assume that $\\sum S_j = \\sum d_i$.\n"
   ]
  },
  {
   "cell_type": "code",
   "execution_count": 33,
   "metadata": {},
   "outputs": [],
   "source": [
    "import numpy as np\n",
    "\n",
    "def my_flow_calculator(S, d):\n",
    "    # Define the correct coefficient matrix A\n",
    "    A = np.array([\n",
    "        [0,  0, -1,  1,  0, -1,  0],  # Node N1: f4 - f3 - f6 = d1\n",
    "        [0,  0,  0,  0,  1,  0, -1],  # Node N2: f5 - f7 = d2\n",
    "        [0,  1,  0,  0,  0,  0,  0],  # Node N3: f2 = d3\n",
    "        [1, -1,  1,  0,  0,  0,  0],  # Node N4: f1 - f2 + f3 = d4\n",
    "        [0,  0,  0,  0,  0,  1,  1],  # Node N5: f6 + f7 = d5\n",
    "        [1,  0,  0,  0,  0,  0,  0],  # Supply: -f1 = S1\n",
    "        [0,  0,  0,  1,  1,  0,  0]   # Supply: -f4 - f5 = S2\n",
    "    ])\n",
    "    \n",
    "    b = np.array([[d[0]], [d[1]], [d[2]], [d[3]], [d[4]], [S[0]], [S[1]]])\n",
    "    \n",
    "    f = np.linalg.lstsq(A, b)\n",
    "    return f\n"
   ]
  },
  {
   "cell_type": "code",
   "execution_count": 35,
   "metadata": {},
   "outputs": [
    {
     "name": "stdout",
     "output_type": "stream",
     "text": [
      "(array([[10. ],\n",
      "       [ 4. ],\n",
      "       [-2. ],\n",
      "       [ 4.5],\n",
      "       [ 5.5],\n",
      "       [ 2.5],\n",
      "       [ 1.5]]), array([], dtype=float64), np.int32(6), array([2.18534044e+00, 1.89452256e+00, 1.50872724e+00, 1.41421356e+00,\n",
      "       1.00000000e+00, 5.99010454e-01, 3.14018492e-17]))\n"
     ]
    }
   ],
   "source": [
    "s = np.array([10, 10])\n",
    "d = np.array([4, 4, 4, 4, 4])\n",
    "\n",
    "f = my_flow_calculator(s, d)\n",
    "print(f)"
   ]
  }
 ],
 "metadata": {
  "kernelspec": {
   "display_name": "Python 3",
   "language": "python",
   "name": "python3"
  },
  "language_info": {
   "codemirror_mode": {
    "name": "ipython",
    "version": 3
   },
   "file_extension": ".py",
   "mimetype": "text/x-python",
   "name": "python",
   "nbconvert_exporter": "python",
   "pygments_lexer": "ipython3",
   "version": "3.13.0"
  }
 },
 "nbformat": 4,
 "nbformat_minor": 2
}
