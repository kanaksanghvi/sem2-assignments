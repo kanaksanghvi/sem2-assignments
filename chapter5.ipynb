{
 "cells": [
  {
   "cell_type": "markdown",
   "metadata": {},
   "source": [
    "# Chapter 5 exercise solutions"
   ]
  },
  {
   "cell_type": "markdown",
   "metadata": {},
   "source": [
    "1. What will the value of y be after the following code is executed?"
   ]
  },
  {
   "cell_type": "code",
   "execution_count": 6,
   "metadata": {},
   "outputs": [],
   "source": [
    "y = 0\n",
    "for i in range(1000):\n",
    "    for j in range(1000):\n",
    "        if i == j:\n",
    "            y += 1"
   ]
  },
  {
   "cell_type": "code",
   "execution_count": 7,
   "metadata": {},
   "outputs": [
    {
     "name": "stdout",
     "output_type": "stream",
     "text": [
      "1000\n"
     ]
    }
   ],
   "source": [
    "print(y)"
   ]
  },
  {
   "cell_type": "markdown",
   "metadata": {},
   "source": [
    "2. Write a function my_max(x) to return the maximum (largest) value in x. Do not use the built-in\n",
    "Python function max."
   ]
  },
  {
   "cell_type": "code",
   "execution_count": 8,
   "metadata": {},
   "outputs": [],
   "source": [
    "def my_max(x):\n",
    "    ans = x[0]\n",
    "    for i in x:\n",
    "        if ans < i:\n",
    "            ans = i\n",
    "    return ans"
   ]
  },
  {
   "cell_type": "code",
   "execution_count": 9,
   "metadata": {},
   "outputs": [
    {
     "name": "stdout",
     "output_type": "stream",
     "text": [
      "9\n"
     ]
    }
   ],
   "source": [
    "print(my_max([1,4,2,3,7,5,3,4,1,9,7]))"
   ]
  },
  {
   "cell_type": "markdown",
   "metadata": {},
   "source": [
    "3. Write a function my_n_max(x, n) to return a list consisting of the n largest elements of x. You may\n",
    "use Python’s max function. You may also assume that x is a one-dimensional list with no duplicate\n",
    "entries, and that n is a strictly positive integer smaller than the length of x"
   ]
  },
  {
   "cell_type": "code",
   "execution_count": 10,
   "metadata": {},
   "outputs": [],
   "source": [
    "def my_n_max(x,n):\n",
    "    l=[]\n",
    "    for i in range(n):\n",
    "        m = max(x)\n",
    "        l.append(m)\n",
    "        x.remove(m)\n",
    "    return l"
   ]
  },
  {
   "cell_type": "code",
   "execution_count": 11,
   "metadata": {},
   "outputs": [
    {
     "name": "stdout",
     "output_type": "stream",
     "text": [
      "[9, 7, 6, 5, 4]\n"
     ]
    }
   ],
   "source": [
    "print(my_n_max([1,4,2,3,6,5,7,4,9],5))"
   ]
  },
  {
   "cell_type": "markdown",
   "metadata": {},
   "source": [
    "4. Let m be a matrix of positive integers. Write a function my_trig_odd_even(m) to return an array q,\n",
    "where q[i, j] = sin(m[i, j]) if m[i, j] is even, and q[i, j] = cos(m[i, j]) if m[i, j] is\n",
    "odd."
   ]
  },
  {
   "cell_type": "code",
   "execution_count": 3,
   "metadata": {},
   "outputs": [],
   "source": [
    "import numpy as np"
   ]
  },
  {
   "cell_type": "code",
   "execution_count": 4,
   "metadata": {},
   "outputs": [],
   "source": [
    "def my_trig_odd_even(m):\n",
    "    shape = m.shape\n",
    "    q = np.zeros(shape)\n",
    "    for i in range(shape[0]):\n",
    "        for j in range(shape[1]):\n",
    "            if m[i,j]%2==0:\n",
    "                q[i,j] = np.sin(m[i,j])\n",
    "            else:\n",
    "                q[i,j] = np.cos(m[i,j])\n",
    "    return q"
   ]
  },
  {
   "cell_type": "code",
   "execution_count": 5,
   "metadata": {},
   "outputs": [
    {
     "name": "stdout",
     "output_type": "stream",
     "text": [
      "[[ 0.54030231  0.90929743 -0.9899925  -0.7568025 ]\n",
      " [ 0.         -0.9899925   0.90929743  0.28366219]]\n"
     ]
    }
   ],
   "source": [
    "print(my_trig_odd_even(np.array([[1,2,3,4],[0,3,2,5]])))"
   ]
  },
  {
   "cell_type": "markdown",
   "metadata": {},
   "source": [
    "5. Let P be an m × p array and Q be a p × n array. As you will find later in this book, M = P ×\n",
    "Q is defined as $M[i, j] = \\sum_{k=1}^p P[i, k] \\cdot Q[k, j]$\n",
    ". Write a function my_mat_mult(P, Q) that uses\n",
    "for-loops to compute M, the matrix product of P * Q. Hint: You may need up to three nested\n",
    "for-loops. Do not use the function np.dot"
   ]
  },
  {
   "cell_type": "code",
   "execution_count": 12,
   "metadata": {},
   "outputs": [],
   "source": [
    "def my_mat_mult(P, Q):\n",
    "    m = len(P)\n",
    "    p = len(P[0])\n",
    "    n = len(Q[0])\n",
    "\n",
    "    M = np.zeros((m,n))\n",
    "\n",
    "    for i in range(m):\n",
    "        for j in range(n):\n",
    "            for k in range(p):\n",
    "                M[i][j] += P[i][k] * Q[k][j]\n",
    "\n",
    "    return M   "
   ]
  },
  {
   "cell_type": "code",
   "execution_count": 13,
   "metadata": {},
   "outputs": [
    {
     "name": "stdout",
     "output_type": "stream",
     "text": [
      "[[16. 12. 17.]\n",
      " [28. 22. 31.]\n",
      " [24. 24. 33.]]\n"
     ]
    }
   ],
   "source": [
    "x = np.array([[2,3],[4,5],[6,3]])\n",
    "y = np.array([[2,3,4],[4,2,3]])\n",
    "print(my_mat_mult(x,y))"
   ]
  },
  {
   "cell_type": "markdown",
   "metadata": {},
   "source": [
    "6. The interest i on a principle, P0, is a payment for allowing the bank to use your money. Compound\n",
    "interest is accumulated according to the formula Pn = (1 + i)Pn−1, where n is the compounding\n",
    "period, usually in months or years. Write a function my_saving_plan(P0, i, goal) where the\n",
    "output is the number of years it will take P0 to become goal at i% interest compounded annually."
   ]
  },
  {
   "cell_type": "code",
   "execution_count": 17,
   "metadata": {},
   "outputs": [],
   "source": [
    "def my_saving_plan(P0,i,goal):\n",
    "    n = 0\n",
    "    while P0 < goal:\n",
    "        P0 = (1+i)*P0\n",
    "        n += 1\n",
    "    return n"
   ]
  },
  {
   "cell_type": "code",
   "execution_count": 18,
   "metadata": {},
   "outputs": [
    {
     "data": {
      "text/plain": [
       "15"
      ]
     },
     "execution_count": 18,
     "metadata": {},
     "output_type": "execute_result"
    }
   ],
   "source": [
    "my_saving_plan(1000, 0.05, 2000)"
   ]
  },
  {
   "cell_type": "code",
   "execution_count": 19,
   "metadata": {},
   "outputs": [
    {
     "data": {
      "text/plain": [
       "21"
      ]
     },
     "execution_count": 19,
     "metadata": {},
     "output_type": "execute_result"
    }
   ],
   "source": [
    "my_saving_plan(500, 0.07, 2000)"
   ]
  },
  {
   "cell_type": "markdown",
   "metadata": {},
   "source": [
    "7. Write a function with my_find(M) where the output is a list of indices i and where M[i] is 1. You\n",
    "may assume that M is a list of only ones and zeros. Do not use the built-in Python function find."
   ]
  },
  {
   "cell_type": "code",
   "execution_count": 21,
   "metadata": {},
   "outputs": [],
   "source": [
    "def my_find(M):\n",
    "    l = []\n",
    "    for i in range(len(M)):\n",
    "        if M[i]==1:\n",
    "            l += [i]\n",
    "    return l"
   ]
  },
  {
   "cell_type": "code",
   "execution_count": 22,
   "metadata": {},
   "outputs": [
    {
     "data": {
      "text/plain": [
       "[0, 2, 3, 7, 8, 10, 12]"
      ]
     },
     "execution_count": 22,
     "metadata": {},
     "output_type": "execute_result"
    }
   ],
   "source": [
    "my_find([1,0,1,1,0,0,0,1,1,0,1,0,1])"
   ]
  },
  {
   "cell_type": "markdown",
   "metadata": {},
   "source": [
    "8. Assume you are rolling two six-sided dice, with each side having an equal chance of occurring.\n",
    "Write a function my_monopoly_dice() where the output is the sum of the values of the two dice\n",
    "thrown but with the following extra rule: if the two dice rolls are the same, then another roll is\n",
    "made, and the new sum added to the running total. For example, if the two dice show 3 and 4, then\n",
    "the running total should be 7. If the two dice show 1 and 1, then the running total should be 2 plus\n",
    "the total of another throw. Rolls stop when the dice rolls are different."
   ]
  },
  {
   "cell_type": "code",
   "execution_count": 23,
   "metadata": {},
   "outputs": [],
   "source": [
    "import random"
   ]
  },
  {
   "cell_type": "code",
   "execution_count": 30,
   "metadata": {},
   "outputs": [],
   "source": [
    "def my_monopoly_dice():\n",
    "    sum = 0\n",
    "    x = random.randint(1,6)\n",
    "    y = random.randint(1,6)\n",
    "    while x == y:\n",
    "        sum = x + y \n",
    "        y = random.randint(1,6)\n",
    "    else:\n",
    "        sum = sum + x + y\n",
    "    return sum"
   ]
  },
  {
   "cell_type": "code",
   "execution_count": 31,
   "metadata": {},
   "outputs": [
    {
     "data": {
      "text/plain": [
       "9"
      ]
     },
     "execution_count": 31,
     "metadata": {},
     "output_type": "execute_result"
    }
   ],
   "source": [
    "my_monopoly_dice()"
   ]
  },
  {
   "cell_type": "code",
   "execution_count": 38,
   "metadata": {},
   "outputs": [
    {
     "data": {
      "text/plain": [
       "20"
      ]
     },
     "execution_count": 38,
     "metadata": {},
     "output_type": "execute_result"
    }
   ],
   "source": [
    "my_monopoly_dice()"
   ]
  },
  {
   "cell_type": "markdown",
   "metadata": {},
   "source": [
    "9. A number is prime if it is divisible without remainder only by itself and 1. The number 1 is not\n",
    "a prime. Write a function my_is_prime(n) where the output is 1 if n is prime and 0 is otherwise.\n",
    "Assume that n is a strictly positive integer."
   ]
  },
  {
   "cell_type": "code",
   "execution_count": 39,
   "metadata": {},
   "outputs": [],
   "source": [
    "import math as m"
   ]
  },
  {
   "cell_type": "code",
   "execution_count": 46,
   "metadata": {},
   "outputs": [],
   "source": [
    "def my_is_prime(n):\n",
    "    flag = 0\n",
    "    for i in range(2, int(m.sqrt(n))+1):\n",
    "        if n%2==0:\n",
    "            flag = 1\n",
    "            break\n",
    "    return flag"
   ]
  },
  {
   "cell_type": "code",
   "execution_count": 52,
   "metadata": {},
   "outputs": [
    {
     "data": {
      "text/plain": [
       "1"
      ]
     },
     "execution_count": 52,
     "metadata": {},
     "output_type": "execute_result"
    }
   ],
   "source": [
    "my_is_prime(8)"
   ]
  },
  {
   "cell_type": "code",
   "execution_count": 53,
   "metadata": {},
   "outputs": [
    {
     "data": {
      "text/plain": [
       "0"
      ]
     },
     "execution_count": 53,
     "metadata": {},
     "output_type": "execute_result"
    }
   ],
   "source": [
    "my_is_prime(2)"
   ]
  },
  {
   "cell_type": "markdown",
   "metadata": {},
   "source": [
    "10. Write a function my_n_primes(n) where prime is a list of the first n primes. Assume that n is a\n",
    "strictly positive integer."
   ]
  },
  {
   "cell_type": "code",
   "execution_count": 54,
   "metadata": {},
   "outputs": [],
   "source": [
    "def my_n_primes(n):\n",
    "    primes = []\n",
    "    num = 2\n",
    "    while len(primes) < n:\n",
    "        is_prime = True\n",
    "        for p in primes:\n",
    "            if p * p > num:\n",
    "                break\n",
    "            if num % p == 0:\n",
    "                is_prime = False\n",
    "                break\n",
    "        if is_prime:\n",
    "            primes.append(num)\n",
    "        num += 1\n",
    "    return primes"
   ]
  },
  {
   "cell_type": "code",
   "execution_count": 55,
   "metadata": {},
   "outputs": [
    {
     "data": {
      "text/plain": [
       "[2, 3, 5, 7, 11, 13, 17, 19, 23, 29]"
      ]
     },
     "execution_count": 55,
     "metadata": {},
     "output_type": "execute_result"
    }
   ],
   "source": [
    "my_n_primes(10)"
   ]
  },
  {
   "cell_type": "markdown",
   "metadata": {},
   "source": [
    "11. Write a function my_n_fib_primes(n) where the output fib_primes is a list of the first n numbers\n",
    "that are both a Fibonacci number and a prime. Note that 1 is not prime. Hint: Do not use the\n",
    "recursive implementation of Fibonacci numbers. A function to compute Fibonacci numbers is\n",
    "presented in Section 6.1. You may use the code freely."
   ]
  },
  {
   "cell_type": "code",
   "execution_count": 56,
   "metadata": {},
   "outputs": [],
   "source": [
    "def my_n_fib_primes(n):\n",
    "    fib_primes = []\n",
    "    fibs = [0, 1]\n",
    "    while len(fib_primes) < n:\n",
    "        next_fib = fibs[-1] + fibs[-2]\n",
    "        fibs.append(next_fib)\n",
    "        if next_fib > 1:\n",
    "            is_prime = True\n",
    "            for i in range(2, int(next_fib**0.5) + 1):\n",
    "                if next_fib % i == 0:\n",
    "                    is_prime = False\n",
    "                    break\n",
    "            if is_prime:\n",
    "                fib_primes.append(next_fib)\n",
    "    return fib_primes\n"
   ]
  },
  {
   "cell_type": "code",
   "execution_count": 57,
   "metadata": {},
   "outputs": [
    {
     "data": {
      "text/plain": [
       "[2, 3, 5, 13, 89, 233]"
      ]
     },
     "execution_count": 57,
     "metadata": {},
     "output_type": "execute_result"
    }
   ],
   "source": [
    "my_n_fib_primes(6)"
   ]
  },
  {
   "cell_type": "markdown",
   "metadata": {},
   "source": [
    "12. Write a function my_trig_odd_even(M) where the output Q[i,j] = sin(π/M[i,j]) if M[i,j] is\n",
    "odd, and Q[i,j] = cos(π/M[i,j]) if M[i,j] is even. Assume that M is a two-dimensional array\n",
    "of strictly positive integers."
   ]
  },
  {
   "cell_type": "code",
   "execution_count": 58,
   "metadata": {},
   "outputs": [],
   "source": [
    "import numpy as np\n",
    "\n",
    "def my_trig_odd_even(M):\n",
    "    M = np.array(M)\n",
    "    Q = np.zeros_like(M, dtype=float)\n",
    "    \n",
    "    odd_indices = M % 2 == 1\n",
    "    even_indices = M % 2 == 0\n",
    "\n",
    "    Q[odd_indices] = np.sin(np.pi / M[odd_indices])\n",
    "    Q[even_indices] = np.cos(np.pi / M[even_indices])\n",
    "\n",
    "    return Q"
   ]
  },
  {
   "cell_type": "code",
   "execution_count": 60,
   "metadata": {},
   "outputs": [
    {
     "name": "stdout",
     "output_type": "stream",
     "text": [
      "[[6.12323400e-17 5.87785252e-01 7.07106781e-01]\n",
      " [8.66025404e-01 5.87785252e-01 7.07106781e-01]]\n"
     ]
    }
   ],
   "source": [
    "print(my_trig_odd_even(np.array([[2,5,4],[3,5,4]])))"
   ]
  },
  {
   "cell_type": "markdown",
   "metadata": {},
   "source": [
    "13. Let C be a square connectivity array containing zeros and ones. Point i has a connection to point\n",
    "j or i is connected to j if C[i,j] = 1. Note that connections in this context are one-directional,\n",
    "meaning C[i,j] is not necessarily the same as C[j,i]. For example, think of a one-way street\n",
    "from point A to point B. If A is connected to B, then B is not necessarily connected to A.\n",
    "Write a function my_connectivity_mat_2_dict(C, names) where C is a connectivity array and\n",
    "names is a list of strings that denote the name of a point. That is, names[i] is the name of the name\n",
    "of the ith point.\n",
    "The output variable node should be a dictionary with the key as the string in names, and value is\n",
    "a vector containing the indices j, such that C[i,j] = 1. In other words, it is a list of points that\n",
    "point i is connected to."
   ]
  },
  {
   "cell_type": "code",
   "execution_count": 68,
   "metadata": {},
   "outputs": [],
   "source": [
    "def my_connectivity_mat_2_dict(C, names):\n",
    "    node = {}\n",
    "    for i, name in enumerate(names):\n",
    "        node[name] = [j + 1 for j in range(len(C[i])) if C[i][j] == 1]\n",
    "    return node"
   ]
  },
  {
   "cell_type": "code",
   "execution_count": 69,
   "metadata": {},
   "outputs": [
    {
     "name": "stdout",
     "output_type": "stream",
     "text": [
      "{'Los Angeles': [2, 4], 'New York': [1, 4], 'Miami': [4], 'Dallas': [1, 2, 3]}\n"
     ]
    }
   ],
   "source": [
    "C = [[0, 1, 0, 1], [1, 0, 0, 1], [0, 0, 0, 1], [1, 1, 1, 0]]\n",
    "names = [\"Los Angeles\", \"New York\", \"Miami\", \"Dallas\"]\n",
    "print(my_connectivity_mat_2_dict(C,names))"
   ]
  },
  {
   "cell_type": "markdown",
   "metadata": {},
   "source": [
    "14. Turn the list words of lower case characters to upper case using the list comprehension."
   ]
  },
  {
   "cell_type": "code",
   "execution_count": 70,
   "metadata": {},
   "outputs": [
    {
     "name": "stdout",
     "output_type": "stream",
     "text": [
      "['HI', 'HELLO', 'WORLD']\n"
     ]
    }
   ],
   "source": [
    "list = [\"hi\",\"hello\",\"world\"]\n",
    "L = [i.upper() for i in list]\n",
    "print(L)"
   ]
  },
  {
   "cell_type": "markdown",
   "metadata": {},
   "source": []
  }
 ],
 "metadata": {
  "kernelspec": {
   "display_name": "Python 3",
   "language": "python",
   "name": "python3"
  },
  "language_info": {
   "codemirror_mode": {
    "name": "ipython",
    "version": 3
   },
   "file_extension": ".py",
   "mimetype": "text/x-python",
   "name": "python",
   "nbconvert_exporter": "python",
   "pygments_lexer": "ipython3",
   "version": "3.13.0"
  }
 },
 "nbformat": 4,
 "nbformat_minor": 2
}
