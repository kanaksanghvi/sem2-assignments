{
 "cells": [
  {
   "cell_type": "markdown",
   "metadata": {},
   "source": [
    "# Chapter 18 exercise solutions"
   ]
  },
  {
   "cell_type": "markdown",
   "metadata": {},
   "source": [
    "4. Write a function that gives the Taylor series approximation to the np.exp function around 0 for an\n",
    "order 1 through 7. Calculate the truncation error bound for order 7."
   ]
  },
  {
   "cell_type": "code",
   "execution_count": 4,
   "metadata": {},
   "outputs": [
    {
     "name": "stdout",
     "output_type": "stream",
     "text": [
      "Taylor series approximations for orders 1 through 7: [2.0, 2.5, 2.6666666666666665, 2.708333333333333, 2.7166666666666663, 2.7180555555555554, 2.7182539682539684]\n",
      "Truncation error bound for order 7: 2.7860205076724043e-05\n"
     ]
    }
   ],
   "source": [
    "import numpy as np\n",
    "import math\n",
    "\n",
    "def taylor_series_exp(x, order):\n",
    "    approximation = 0\n",
    "    for n in range(order + 1):\n",
    "        approximation += x**n /math.factorial(n)\n",
    "    return approximation\n",
    "\n",
    "# Calculate the Taylor series approximation for orders 1 through 7\n",
    "x = 1  # example value\n",
    "approximations = [taylor_series_exp(x, order) for order in range(1, 8)]\n",
    "\n",
    "# Calculate the truncation error bound for order 7\n",
    "true_value = np.exp(x)\n",
    "truncation_error_bound = abs(true_value - approximations[-1])\n",
    "\n",
    "print(\"Taylor series approximations for orders 1 through 7:\", approximations)\n",
    "print(\"Truncation error bound for order 7:\", truncation_error_bound)"
   ]
  }
 ],
 "metadata": {
  "kernelspec": {
   "display_name": "Python 3",
   "language": "python",
   "name": "python3"
  },
  "language_info": {
   "codemirror_mode": {
    "name": "ipython",
    "version": 3
   },
   "file_extension": ".py",
   "mimetype": "text/x-python",
   "name": "python",
   "nbconvert_exporter": "python",
   "pygments_lexer": "ipython3",
   "version": "3.13.0"
  }
 },
 "nbformat": 4,
 "nbformat_minor": 2
}
