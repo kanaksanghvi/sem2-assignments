{
 "cells": [
  {
   "cell_type": "markdown",
   "metadata": {},
   "source": [
    "# Chapter 9 exercise solutions "
   ]
  },
  {
   "cell_type": "markdown",
   "metadata": {},
   "source": [
    "2. Write a function my_dec_2_bin(d) where d is a positive integer in decimal, and b is the binary \n",
    "representation of d. The output b must be a list of ones and zeros, and the leading term must be a \n",
    "1 unless the decimal input value is 0. "
   ]
  },
  {
   "cell_type": "code",
   "execution_count": 1,
   "metadata": {},
   "outputs": [],
   "source": [
    "def my_dec_2_bin(d):\n",
    "    if d == 0:\n",
    "        return [0]\n",
    "    b = []\n",
    "    while d > 0:\n",
    "        b.append(d % 2)\n",
    "        d = d // 2\n",
    "    b.reverse()\n",
    "    return b"
   ]
  },
  {
   "cell_type": "code",
   "execution_count": 2,
   "metadata": {},
   "outputs": [
    {
     "data": {
      "text/plain": [
       "[0]"
      ]
     },
     "execution_count": 2,
     "metadata": {},
     "output_type": "execute_result"
    }
   ],
   "source": [
    "my_dec_2_bin(0)"
   ]
  },
  {
   "cell_type": "code",
   "execution_count": 3,
   "metadata": {},
   "outputs": [
    {
     "data": {
      "text/plain": [
       "[1, 0, 1, 1, 1]"
      ]
     },
     "execution_count": 3,
     "metadata": {},
     "output_type": "execute_result"
    }
   ],
   "source": [
    "my_dec_2_bin(23)"
   ]
  },
  {
   "cell_type": "markdown",
   "metadata": {},
   "source": [
    "3. Use the two functions you wrote in Problems 1 and 2 to compute\n",
    "d = my_bin_2_dec(my_dec_2_bin(12654)). Do you get the same number?"
   ]
  },
  {
   "cell_type": "code",
   "execution_count": 4,
   "metadata": {},
   "outputs": [],
   "source": [
    "def my_bin_2_dec(b):\n",
    "    d = 0\n",
    "    for i in range(len(b)):\n",
    "        d += b[-(i+1)] * (2 ** i)\n",
    "    return d"
   ]
  },
  {
   "cell_type": "code",
   "execution_count": 5,
   "metadata": {},
   "outputs": [
    {
     "name": "stdout",
     "output_type": "stream",
     "text": [
      "12654\n"
     ]
    }
   ],
   "source": [
    "d = my_bin_2_dec(my_dec_2_bin(12654))\n",
    "print(d)"
   ]
  },
  {
   "cell_type": "markdown",
   "metadata": {},
   "source": [
    "4. Write a function my_bin_adder(b1,b2)where b1, b2and the output variable bare binary numbers\n",
    "represented as in Problem 1. The output variable should be computed as b = b1 + b2. Do not \n",
    "use your functions from Problems 1 and 2 to write this function (i.e., do not convert b1 and b2 \n",
    "to decimals; add them and then convert the result back to binary). This function should be able \n",
    "to accept inputs b1 and b2 of any length (i.e., very long binary numbers), and b1 and b2 may not \n",
    "necessarily be of the same length."
   ]
  },
  {
   "cell_type": "code",
   "execution_count": 6,
   "metadata": {},
   "outputs": [],
   "source": [
    "def my_bin_adder(b1, b2):\n",
    "    # Ensure b1 is the longer list\n",
    "    if len(b1) < len(b2):\n",
    "        b1, b2 = b2, b1\n",
    "    \n",
    "    # Pad the shorter list with zeros\n",
    "    b2 = [0] * (len(b1) - len(b2)) + b2\n",
    "    \n",
    "    carry = 0\n",
    "    result = []\n",
    "    \n",
    "    for i in range(len(b1) - 1, -1, -1):\n",
    "        total = b1[i] + b2[i] + carry\n",
    "        result.append(total % 2)\n",
    "        carry = total // 2\n",
    "    \n",
    "    if carry:\n",
    "        result.append(carry)\n",
    "    \n",
    "    result.reverse()\n",
    "    \n",
    "    return result"
   ]
  },
  {
   "cell_type": "code",
   "execution_count": 7,
   "metadata": {},
   "outputs": [
    {
     "data": {
      "text/plain": [
       "[1, 1, 1, 0, 0, 1, 1]"
      ]
     },
     "execution_count": 7,
     "metadata": {},
     "output_type": "execute_result"
    }
   ],
   "source": [
    "my_bin_adder([1, 1, 1, 1, 1], [1, 0, 1, 0, 1, 0, 0])"
   ]
  },
  {
   "cell_type": "markdown",
   "metadata": {},
   "source": [
    "6. Write a function my_ieee_2_dec(ieee) where ieee is a string that contains 64 characters of ones\n",
    "and zeros, representing a 64-bit IEEE754 number. The output should be d, which is the equivalent \n",
    "decimal representation of ieee. The input variable ieeewill always be a 64-element string of ones \n",
    "and zeros deﬁning a 64-bit ﬂoat."
   ]
  },
  {
   "cell_type": "code",
   "execution_count": 10,
   "metadata": {},
   "outputs": [
    {
     "name": "stdout",
     "output_type": "stream",
     "text": [
      "Decimal value: 3.141592653589793\n"
     ]
    }
   ],
   "source": [
    "def my_ieee_2_dec(ieee):\n",
    "    sign = -1 if ieee[0] == '1' else 1\n",
    "    exponent = int(ieee[1:12], 2) - 1023\n",
    "    mantissa = 1 + sum(int(bit) * 2**-(i + 1) for i, bit in enumerate(ieee[12:]))\n",
    "    return sign * mantissa * (2**exponent)\n",
    "\n",
    "ieee_binary = \"0100000000001001001000011111101101010100010001000010110100011000\"  # Example binary string\n",
    "decimal_value = my_ieee_2_dec(ieee_binary)\n",
    "print(f\"Decimal value: {decimal_value}\")\n"
   ]
  },
  {
   "cell_type": "code",
   "execution_count": 11,
   "metadata": {},
   "outputs": [
    {
     "data": {
      "text/plain": [
       "-48.0"
      ]
     },
     "execution_count": 11,
     "metadata": {},
     "output_type": "execute_result"
    }
   ],
   "source": [
    "ieee =\"1100000001001000000000000000000000000000000000000000000000000000\"\n",
    "my_ieee_2_dec(ieee)"
   ]
  },
  {
   "cell_type": "markdown",
   "metadata": {},
   "source": [
    "7. Write a function my_dec_2_ieee(d)where d is a number in decimal, and the output variable ieee \n",
    "is a string with 64 characters of ones and zeros, representing the 64-bit IEEE754 closest to d. \n",
    "Assume that d will not cause an overﬂow for 64-bit ieee numbers."
   ]
  },
  {
   "cell_type": "code",
   "execution_count": 1,
   "metadata": {},
   "outputs": [
    {
     "name": "stdout",
     "output_type": "stream",
     "text": [
      "0011111111111000010010111011011000010110100011100001110100100000\n"
     ]
    }
   ],
   "source": [
    "def my_dec_2_ieee(d):\n",
    "    if d == 0.0:\n",
    "        return '0' * 64 if d > 0 else '1' + '0' * 63\n",
    "    \n",
    "    sign_bit = '0' if d > 0 else '1'\n",
    "    d = abs(d)\n",
    "    \n",
    "    exponent = 0\n",
    "    if d >= 1:\n",
    "        while d >= 2:\n",
    "            d /= 2\n",
    "            exponent += 1\n",
    "    elif d < 1:\n",
    "        while d < 1:\n",
    "            d *= 2\n",
    "            exponent -= 1\n",
    "\n",
    "    biased_exponent = exponent + 1023\n",
    "    exponent_bits = f'{biased_exponent:011b}'\n",
    "    \n",
    "\n",
    "    d -= 1\n",
    "    mantissa = \"\"\n",
    "    for _ in range(52):\n",
    "        d *= 2\n",
    "        if d >= 1:\n",
    "            mantissa += '1'\n",
    "            d -= 1\n",
    "        else:\n",
    "            mantissa += '0'\n",
    "    \n",
    "    ieee = sign_bit + exponent_bits + mantissa\n",
    "    return ieee\n",
    "\n",
    "print(my_dec_2_ieee(1.518484199625))"
   ]
  }
 ],
 "metadata": {
  "kernelspec": {
   "display_name": "Python 3",
   "language": "python",
   "name": "python3"
  },
  "language_info": {
   "codemirror_mode": {
    "name": "ipython",
    "version": 3
   },
   "file_extension": ".py",
   "mimetype": "text/x-python",
   "name": "python",
   "nbconvert_exporter": "python",
   "pygments_lexer": "ipython3",
   "version": "3.13.0"
  }
 },
 "nbformat": 4,
 "nbformat_minor": 2
}
