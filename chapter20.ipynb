{
 "cells": [
  {
   "cell_type": "markdown",
   "metadata": {},
   "source": [
    "# Chapter 20 exercise solutions"
   ]
  },
  {
   "cell_type": "markdown",
   "metadata": {},
   "source": [
    "1. Write a function my_der_calc(f, a, b, N, option) with the output as [df,X], where f is a function object, a and b are scalars such that a < b, N is an integer bigger than 10, and option is the \n",
    "string \"forward\", \"backward\", or \"central\". Let x be an array starting at a, ending at b, contain-\n",
    "ing N evenly spaced elements, and let y be the array f(x). The output argument, df, should be the \n",
    "numerical derivatives computed for xand yaccording to the method deﬁned by the input argument, \n",
    "option. The output argument X should be an array the same size as df, containing the points in x for \n",
    "which df is valid. Speciﬁcally, the forward difference method “loses” the last point, the backward \n",
    "difference method loses the first point and the central difference method loses the first and the last points."
   ]
  },
  {
   "cell_type": "code",
   "execution_count": 1,
   "metadata": {},
   "outputs": [],
   "source": [
    "import numpy as np\n",
    "\n",
    "def my_der_calc(f, a, b, N, option):\n",
    "    if N <= 10:\n",
    "        raise ValueError(\"N must be greater than 10.\")\n",
    "\n",
    "    x = np.linspace(a, b, N) \n",
    "    y = f(x)\n",
    "\n",
    "    h = x[1] - x[0]  \n",
    "    df = []\n",
    "    X = []\n",
    "\n",
    "    if option == \"forward\":\n",
    "        df = (y[1:] - y[:-1]) / h  \n",
    "        X = x[:-1] \n",
    "\n",
    "    elif option == \"backward\":\n",
    "        df = (y[1:] - y[:-1]) / h  \n",
    "        X = x[1:]  \n",
    "\n",
    "    elif option == \"central\":\n",
    "        df = (y[2:] - y[:-2]) / (2 * h)  \n",
    "        X = x[1:-1] \n",
    "\n",
    "    else:\n",
    "        raise ValueError(\"Invalid option. Choose 'forward', 'backward', or 'central'.\")\n",
    "\n",
    "    return df, X"
   ]
  },
  {
   "cell_type": "code",
   "execution_count": 3,
   "metadata": {},
   "outputs": [
    {
     "name": "stdout",
     "output_type": "stream",
     "text": [
      "Forward Difference: [ 0.99544962  0.96829635  0.91473048  0.83621315  0.7348861   0.61351327\n",
      "  0.4754054   0.32432971  0.16440716  0.         -0.16440716 -0.32432971\n",
      " -0.4754054  -0.61351327 -0.7348861  -0.83621315 -0.91473048 -0.96829635\n",
      " -0.99544962]\n",
      "Backward Difference: [ 0.99544962  0.96829635  0.91473048  0.83621315  0.7348861   0.61351327\n",
      "  0.4754054   0.32432971  0.16440716  0.         -0.16440716 -0.32432971\n",
      " -0.4754054  -0.61351327 -0.7348861  -0.83621315 -0.91473048 -0.96829635\n",
      " -0.99544962]\n",
      "Central Difference: [ 0.98187299  0.94151341  0.87547181  0.78554962  0.67419968  0.54445934\n",
      "  0.39986756  0.24436844  0.08220358 -0.08220358 -0.24436844 -0.39986756\n",
      " -0.54445934 -0.67419968 -0.78554962 -0.87547181 -0.94151341 -0.98187299]\n"
     ]
    }
   ],
   "source": [
    "f = lambda x: np.sin(x)  \n",
    "a, b, N = 0, np.pi, 20  \n",
    "\n",
    "df_forward, X_forward = my_der_calc(f, a, b, N, \"forward\")\n",
    "df_backward, X_backward = my_der_calc(f, a, b, N, \"backward\")\n",
    "df_central, X_central = my_der_calc(f, a, b, N, \"central\")\n",
    "\n",
    "print(\"Forward Difference:\", df_forward)\n",
    "print(\"Backward Difference:\", df_backward)\n",
    "print(\"Central Difference:\", df_central)"
   ]
  }
 ],
 "metadata": {
  "kernelspec": {
   "display_name": "Python 3",
   "language": "python",
   "name": "python3"
  },
  "language_info": {
   "codemirror_mode": {
    "name": "ipython",
    "version": 3
   },
   "file_extension": ".py",
   "mimetype": "text/x-python",
   "name": "python",
   "nbconvert_exporter": "python",
   "pygments_lexer": "ipython3",
   "version": "3.13.0"
  }
 },
 "nbformat": 4,
 "nbformat_minor": 2
}
