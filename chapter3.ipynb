{
 "cells": [
  {
   "cell_type": "markdown",
   "metadata": {},
   "source": [
    "# Chapter 3 exercise solution"
   ]
  },
  {
   "cell_type": "code",
   "execution_count": 1,
   "metadata": {},
   "outputs": [],
   "source": [
    "import math as m"
   ]
  },
  {
   "cell_type": "code",
   "execution_count": 2,
   "metadata": {},
   "outputs": [],
   "source": [
    "import numpy as np"
   ]
  },
  {
   "cell_type": "markdown",
   "metadata": {},
   "source": [
    "1. Recall that the hyperbolic sine, denoted by sinh, is $\\sinh(x) = \\frac{e^x - e^{-x}}{2}$ . Write a function my_sinh(x)\n",
    "where the output y is the hyperbolic sine computed on x. Assume that x is a 1 by 1 float."
   ]
  },
  {
   "cell_type": "code",
   "execution_count": 3,
   "metadata": {},
   "outputs": [],
   "source": [
    "def my_sinh(x):\n",
    "    result = (m.exp(x)-m.exp(-x))/2\n",
    "    return result"
   ]
  },
  {
   "cell_type": "code",
   "execution_count": 4,
   "metadata": {},
   "outputs": [
    {
     "name": "stdout",
     "output_type": "stream",
     "text": [
      "0.0\n"
     ]
    }
   ],
   "source": [
    "print(my_sinh(0))"
   ]
  },
  {
   "cell_type": "code",
   "execution_count": 5,
   "metadata": {},
   "outputs": [
    {
     "name": "stdout",
     "output_type": "stream",
     "text": [
      "1.1752011936438014\n"
     ]
    }
   ],
   "source": [
    "print(my_sinh(1))"
   ]
  },
  {
   "cell_type": "markdown",
   "metadata": {},
   "source": [
    "2. Write a function my_checker_board(n) where the output m is an n × n array with the following\n",
    "form: $$\n",
    "\\begin{bmatrix}\n",
    "1 & 0 & 1 & 0 & 1 \\\\\n",
    "0 & 1 & 0 & 1 & 0 \\\\\n",
    "1 & 0 & 1 & 0 & 1 \\\\\n",
    "0 & 1 & 0 & 1 & 0 \\\\\n",
    "1 & 0 & 1 & 0 & 1 \\\\\n",
    "\\end{bmatrix}\n",
    "$$\n"
   ]
  },
  {
   "cell_type": "code",
   "execution_count": 10,
   "metadata": {},
   "outputs": [],
   "source": [
    "def my_checker_board(n):\n",
    "    x = np.zeros((n,n))\n",
    "    for i in range (0, n):\n",
    "        for j in range(0, n):\n",
    "            if (i+j)%2==0:\n",
    "                x[i,j]=1\n",
    "    return x"
   ]
  },
  {
   "cell_type": "code",
   "execution_count": 11,
   "metadata": {},
   "outputs": [
    {
     "name": "stdout",
     "output_type": "stream",
     "text": [
      "[[1. 0. 1. 0.]\n",
      " [0. 1. 0. 1.]\n",
      " [1. 0. 1. 0.]\n",
      " [0. 1. 0. 1.]]\n"
     ]
    }
   ],
   "source": [
    "print(my_checker_board(4))"
   ]
  },
  {
   "cell_type": "markdown",
   "metadata": {},
   "source": [
    "3. Write a function my_triangle(b,h) where the output is the area of a triangle with base, b, and\n",
    "height, h. Recall that the area of a triangle is one-half the base times the height. Assume that b and\n",
    "h are just 1 by 1 float numbers"
   ]
  },
  {
   "cell_type": "code",
   "execution_count": 12,
   "metadata": {},
   "outputs": [],
   "source": [
    "def my_trinagle(b,h):\n",
    "    result = 0.5*b*h\n",
    "    return result"
   ]
  },
  {
   "cell_type": "code",
   "execution_count": 13,
   "metadata": {},
   "outputs": [
    {
     "name": "stdout",
     "output_type": "stream",
     "text": [
      "15.0\n"
     ]
    }
   ],
   "source": [
    "print(my_trinagle(5,6))"
   ]
  },
  {
   "cell_type": "markdown",
   "metadata": {},
   "source": [
    "4. Write a function my_split_matrix(m), where m is an array, the output is a list [m1, m2] where m1 is\n",
    "the left half of m, and m2 is the right half of m. In the case where there is an odd number of columns,\n",
    "the middle column should go to m1. Assume that m has at least two columns."
   ]
  },
  {
   "cell_type": "code",
   "execution_count": 35,
   "metadata": {},
   "outputs": [],
   "source": [
    "def my_split_matrix(m):\n",
    "    n = m.shape[1]\n",
    "    m1 = m[:,:(n//2 + 1)]\n",
    "    m2 = m[:,(n//2 +1):]\n",
    "    return [m1,m2]"
   ]
  },
  {
   "cell_type": "code",
   "execution_count": 36,
   "metadata": {},
   "outputs": [
    {
     "name": "stdout",
     "output_type": "stream",
     "text": [
      "[[1 2 3]\n",
      " [2 9 4]\n",
      " [4 5 3]]\n",
      "[[4 3]\n",
      " [2 3]\n",
      " [8 5]]\n"
     ]
    }
   ],
   "source": [
    "x = np.array([[1,2,3,4,3],[2,9,4,2,3],[4,5,3,8,5]])\n",
    "l = my_split_matrix(x)\n",
    "for i in l:\n",
    "    print(i)"
   ]
  },
  {
   "cell_type": "markdown",
   "metadata": {},
   "source": [
    "5. Write a function my_cylinder(r,h), where r and h are the radius and height of a cylinder, respectively, and the output is a list [s, v] where s and v are the surface area and volume of the same\n",
    "cylinder, respectively. Recall that the surface area of a cylinder is 2πr^2 + 2πrh, and the volume is\n",
    "πr^2h. Assume that r and h are 1 by 1 floats."
   ]
  },
  {
   "cell_type": "code",
   "execution_count": 41,
   "metadata": {},
   "outputs": [],
   "source": [
    "import math as m\n",
    "def my_cylinder(r,h):\n",
    "    s = 2*m.pi*(r**2) + 2*m.pi*r*h\n",
    "    v = m.pi*(r**2)*h\n",
    "    return [s,v]"
   ]
  },
  {
   "cell_type": "code",
   "execution_count": 43,
   "metadata": {},
   "outputs": [
    {
     "name": "stdout",
     "output_type": "stream",
     "text": [
      "surface area = 345.5751918948772\n",
      "volume = 471.23889803846896\n"
     ]
    }
   ],
   "source": [
    "k = my_cylinder(5,6)\n",
    "print(f\"surface area = {k[0]}\")\n",
    "print(f\"volume = {k[1]}\")"
   ]
  },
  {
   "cell_type": "markdown",
   "metadata": {},
   "source": [
    "6. Write a function my_n_odds(a), where a is a one-dimensional array of floats and the output is the\n",
    "number of odd numbers in a."
   ]
  },
  {
   "cell_type": "code",
   "execution_count": 44,
   "metadata": {},
   "outputs": [],
   "source": [
    "def my_n_odds(a):\n",
    "    x = a[a%2==1]\n",
    "    return x.size"
   ]
  },
  {
   "cell_type": "code",
   "execution_count": 45,
   "metadata": {},
   "outputs": [
    {
     "name": "stdout",
     "output_type": "stream",
     "text": [
      "5\n"
     ]
    }
   ],
   "source": [
    "print(my_n_odds(np.array([1,5,7,8,9,2,4,5,8])))"
   ]
  },
  {
   "cell_type": "markdown",
   "metadata": {},
   "source": [
    "7. Write a function my_twos(m,n) where the output is an m × n array of twos. Assume that m and n\n",
    "are strictly positive integers."
   ]
  },
  {
   "cell_type": "code",
   "execution_count": 46,
   "metadata": {},
   "outputs": [],
   "source": [
    "def my_twos(m,n):\n",
    "    x = np.ones((m,n))\n",
    "    return x+1"
   ]
  },
  {
   "cell_type": "code",
   "execution_count": 47,
   "metadata": {},
   "outputs": [
    {
     "name": "stdout",
     "output_type": "stream",
     "text": [
      "[[2. 2.]\n",
      " [2. 2.]\n",
      " [2. 2.]]\n"
     ]
    }
   ],
   "source": [
    "print(my_twos(3,2))"
   ]
  },
  {
   "cell_type": "markdown",
   "metadata": {},
   "source": [
    "8. Write a lambda function that takes in input x and y, and the output is the value of x-y."
   ]
  },
  {
   "cell_type": "code",
   "execution_count": 48,
   "metadata": {},
   "outputs": [
    {
     "name": "stdout",
     "output_type": "stream",
     "text": [
      "3\n"
     ]
    }
   ],
   "source": [
    "z = lambda x,y : x - y \n",
    "print(z(4,1))"
   ]
  },
  {
   "cell_type": "markdown",
   "metadata": {},
   "source": [
    "9. Write a function add_string(s1, s2) where the output is the concatenation of the strings s1 and\n",
    "s2."
   ]
  },
  {
   "cell_type": "code",
   "execution_count": 49,
   "metadata": {},
   "outputs": [
    {
     "name": "stdout",
     "output_type": "stream",
     "text": [
      "helloworld\n"
     ]
    }
   ],
   "source": [
    "def add_string(s1,s2):\n",
    "    return s1+s2\n",
    "print(add_string(\"hello\",\"world\"))"
   ]
  },
  {
   "cell_type": "markdown",
   "metadata": {},
   "source": [
    "10. Generate the following errors:\n",
    "• TypeError: fun() missing 1 required positional argument: \"a\"\n",
    "• IndentationError: expected an indented block"
   ]
  },
  {
   "cell_type": "code",
   "execution_count": 52,
   "metadata": {},
   "outputs": [
    {
     "ename": "TypeError",
     "evalue": "func() missing 1 required positional argument: 'b'",
     "output_type": "error",
     "traceback": [
      "\u001b[1;31m---------------------------------------------------------------------------\u001b[0m",
      "\u001b[1;31mTypeError\u001b[0m                                 Traceback (most recent call last)",
      "Cell \u001b[1;32mIn[52], line 3\u001b[0m\n\u001b[0;32m      1\u001b[0m \u001b[38;5;28;01mdef\u001b[39;00m \u001b[38;5;21mfunc\u001b[39m(a,b):\n\u001b[0;32m      2\u001b[0m     \u001b[38;5;28;01mreturn\u001b[39;00m a\u001b[38;5;241m+\u001b[39mb\n\u001b[1;32m----> 3\u001b[0m \u001b[38;5;28mprint\u001b[39m(\u001b[43mfunc\u001b[49m\u001b[43m(\u001b[49m\u001b[38;5;241;43m2\u001b[39;49m\u001b[43m)\u001b[49m)\n",
      "\u001b[1;31mTypeError\u001b[0m: func() missing 1 required positional argument: 'b'"
     ]
    }
   ],
   "source": [
    "def func(a,b):\n",
    "    return a+b\n",
    "print(func(2))"
   ]
  },
  {
   "cell_type": "code",
   "execution_count": 53,
   "metadata": {},
   "outputs": [
    {
     "ename": "IndentationError",
     "evalue": "expected an indented block after function definition on line 1 (567231385.py, line 2)",
     "output_type": "error",
     "traceback": [
      "\u001b[1;36m  Cell \u001b[1;32mIn[53], line 2\u001b[1;36m\u001b[0m\n\u001b[1;33m    return a+b\u001b[0m\n\u001b[1;37m    ^\u001b[0m\n\u001b[1;31mIndentationError\u001b[0m\u001b[1;31m:\u001b[0m expected an indented block after function definition on line 1\n"
     ]
    }
   ],
   "source": [
    "def f(a,b):\n",
    "return a+b"
   ]
  },
  {
   "cell_type": "markdown",
   "metadata": {},
   "source": [
    "11. Write a function greeting(name, age) where name is a string, age is a float, and the output is a\n",
    "string \"Hi, my name is XXX and I am XXX years old.\" where XXX are the input name and age,\n",
    "respectively."
   ]
  },
  {
   "cell_type": "code",
   "execution_count": 54,
   "metadata": {},
   "outputs": [
    {
     "name": "stdout",
     "output_type": "stream",
     "text": [
      "Hi, my name is Anika and i am 18 years old\n"
     ]
    }
   ],
   "source": [
    "def greeting(name,age):\n",
    "    s = f\"Hi, my name is {name} and i am {age} years old\"\n",
    "    return s\n",
    "\n",
    "print(greeting(\"Anika\",18))"
   ]
  },
  {
   "cell_type": "markdown",
   "metadata": {},
   "source": [
    "12. Let r1 and r2 be the radius of circles with the same center and let r2 > r1. Write a function\n",
    "my_donut_area(r1, r2) where the output is the area outside of the circle with radius r1 and\n",
    "inside the circle with radius r2. Make sure that the function is vectorized. Assume that r1 and r2\n",
    "are one-dimensional arrays of the same size."
   ]
  },
  {
   "cell_type": "code",
   "execution_count": 55,
   "metadata": {},
   "outputs": [],
   "source": [
    "def my_donut_area(r1,r2):\n",
    "    return np.pi * (r2**2 - r1**2)"
   ]
  },
  {
   "cell_type": "code",
   "execution_count": 56,
   "metadata": {},
   "outputs": [
    {
     "name": "stdout",
     "output_type": "stream",
     "text": [
      "[ 9.42477796 37.69911184 84.82300165]\n"
     ]
    }
   ],
   "source": [
    "r1 = np.arange(1, 4)\n",
    "r2 = np.arange(2, 7, 2)\n",
    "result = my_donut_area(r1, r2)\n",
    "print(result)"
   ]
  },
  {
   "cell_type": "markdown",
   "metadata": {},
   "source": [
    "13. Write a function my_within_tolerance(A, a, tol) where the output is an array or list of the\n",
    "indices in A such that |A − a| < tol. Assume that A is a one-dimensional float list or array, and that\n",
    "a and tol are 1 by 1 floats."
   ]
  },
  {
   "cell_type": "code",
   "execution_count": 57,
   "metadata": {},
   "outputs": [],
   "source": [
    "def my_within_tolerance(A,a,tol):\n",
    "    result = []\n",
    "    for i in range(len(A)):\n",
    "        if abs(A[i]-a)<tol:\n",
    "            result+=[i]\n",
    "    return result"
   ]
  },
  {
   "cell_type": "code",
   "execution_count": 58,
   "metadata": {},
   "outputs": [
    {
     "data": {
      "text/plain": [
       "[1, 2]"
      ]
     },
     "execution_count": 58,
     "metadata": {},
     "output_type": "execute_result"
    }
   ],
   "source": [
    "my_within_tolerance([0, 1, 2, 3], 1.5, 0.75)"
   ]
  },
  {
   "cell_type": "code",
   "execution_count": 59,
   "metadata": {},
   "outputs": [
    {
     "data": {
      "text/plain": [
       "[47, 48, 49, 50, 51, 52]"
      ]
     },
     "execution_count": 59,
     "metadata": {},
     "output_type": "execute_result"
    }
   ],
   "source": [
    "my_within_tolerance(np.arange(0, 1.01, 0.01), 0.5, 0.03)"
   ]
  },
  {
   "cell_type": "markdown",
   "metadata": {},
   "source": [
    "14. Write a function bounding_array(A, top, bottom) where the output is equal to the array A wherever bottom < A < top, the output is equal to bottom wherever A <= bottom, and the output is\n",
    "equal to top wherever A >= top. Assume that A is a one-dimensional float array and that top and\n",
    "bottom are 1 by 1 floats."
   ]
  },
  {
   "cell_type": "code",
   "execution_count": 60,
   "metadata": {},
   "outputs": [],
   "source": [
    "def bounding_array(A, top, bottom):\n",
    "    return np.clip(A, bottom, top)\n"
   ]
  },
  {
   "cell_type": "code",
   "execution_count": 61,
   "metadata": {},
   "outputs": [
    {
     "data": {
      "text/plain": [
       "array([-3, -3, -3, -2, -1,  0,  1,  2,  3,  3,  3])"
      ]
     },
     "execution_count": 61,
     "metadata": {},
     "output_type": "execute_result"
    }
   ],
   "source": [
    "bounding_array(np.arange(-5, 6, 1), 3, -3)"
   ]
  },
  {
   "cell_type": "code",
   "execution_count": null,
   "metadata": {},
   "outputs": [],
   "source": []
  }
 ],
 "metadata": {
  "kernelspec": {
   "display_name": "Python 3",
   "language": "python",
   "name": "python3"
  },
  "language_info": {
   "codemirror_mode": {
    "name": "ipython",
    "version": 3
   },
   "file_extension": ".py",
   "mimetype": "text/x-python",
   "name": "python",
   "nbconvert_exporter": "python",
   "pygments_lexer": "ipython3",
   "version": "3.13.0"
  }
 },
 "nbformat": 4,
 "nbformat_minor": 2
}
